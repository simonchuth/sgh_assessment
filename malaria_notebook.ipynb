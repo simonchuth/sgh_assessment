{
 "cells": [
  {
   "cell_type": "markdown",
   "metadata": {},
   "source": [
    "# Analysis of Malaria dataset\n",
    "\n",
    "**Author:** Chu Ting Hine Simon <br>\n",
    "**E-mail:** simonchuth@gmail.com <br>\n",
    "\n",
    "Malaria is a life-threatening disease caused by a mosquito-borne parasites. When malaria enters the blood stream of the patient via a mosquito bite, the parasite then travel to the liver, where it proliferate in the host liver cell. Eventually the host liver cells rupture, and the parasites were released to the blood stream to infect other liver cells or red blood cells. <br>\n",
    "\n",
    "Malaria could cause the death of the patient due to complications, such as:\n",
    "* Anemia: As the parasite reproduce in the red blood cells, it cause red blood cells to rupture as it proliferate. This cause the red blood cells counts to decrease, eventuallyleading to anemia (lack of healthy red blood cells to carry oxygen).\n",
    "* Organ failure: The parasite might also reproduce in the liver or spleen, causing damages to these organ as they multiply, leading to failure of these organ.\n",
    "* Cerebral malaria: Parasite filled blood could blockage and damages blood vessel leading to the brain, thus decresaing oxygen and nutrient supply to the brain. This could lead to seizures, coma, or even death. "
   ]
  },
  {
   "cell_type": "code",
   "execution_count": 1,
   "metadata": {},
   "outputs": [
    {
     "name": "stdout",
     "output_type": "stream",
     "text": [
      "Requirement already satisfied: numpy in c:\\users\\simon\\appdata\\local\\continuum\\anaconda3\\envs\\sgh\\lib\\site-packages (1.19.1)\n",
      "Requirement already satisfied: pandas in c:\\users\\simon\\appdata\\local\\continuum\\anaconda3\\envs\\sgh\\lib\\site-packages (1.1.3)\n",
      "Requirement already satisfied: numpy>=1.15.4 in c:\\users\\simon\\appdata\\local\\continuum\\anaconda3\\envs\\sgh\\lib\\site-packages (from pandas) (1.19.1)\n",
      "Requirement already satisfied: pytz>=2017.2 in c:\\users\\simon\\appdata\\local\\continuum\\anaconda3\\envs\\sgh\\lib\\site-packages (from pandas) (2020.1)\n",
      "Requirement already satisfied: python-dateutil>=2.7.3 in c:\\users\\simon\\appdata\\local\\continuum\\anaconda3\\envs\\sgh\\lib\\site-packages (from pandas) (2.8.1)\n",
      "Requirement already satisfied: six>=1.5 in c:\\users\\simon\\appdata\\local\\continuum\\anaconda3\\envs\\sgh\\lib\\site-packages (from python-dateutil>=2.7.3->pandas) (1.15.0)\n",
      "Requirement already satisfied: matplotlib in c:\\users\\simon\\appdata\\local\\continuum\\anaconda3\\envs\\sgh\\lib\\site-packages (3.3.1)\n",
      "Requirement already satisfied: pyparsing!=2.0.4,!=2.1.2,!=2.1.6,>=2.0.3 in c:\\users\\simon\\appdata\\local\\continuum\\anaconda3\\envs\\sgh\\lib\\site-packages (from matplotlib) (2.4.7)\n",
      "Requirement already satisfied: kiwisolver>=1.0.1 in c:\\users\\simon\\appdata\\local\\continuum\\anaconda3\\envs\\sgh\\lib\\site-packages (from matplotlib) (1.2.0)\n",
      "Requirement already satisfied: certifi>=2020.06.20 in c:\\users\\simon\\appdata\\local\\continuum\\anaconda3\\envs\\sgh\\lib\\site-packages (from matplotlib) (2020.6.20)\n",
      "Requirement already satisfied: numpy>=1.15 in c:\\users\\simon\\appdata\\local\\continuum\\anaconda3\\envs\\sgh\\lib\\site-packages (from matplotlib) (1.19.1)\n",
      "Requirement already satisfied: pillow>=6.2.0 in c:\\users\\simon\\appdata\\local\\continuum\\anaconda3\\envs\\sgh\\lib\\site-packages (from matplotlib) (7.2.0)\n",
      "Requirement already satisfied: python-dateutil>=2.1 in c:\\users\\simon\\appdata\\local\\continuum\\anaconda3\\envs\\sgh\\lib\\site-packages (from matplotlib) (2.8.1)\n",
      "Requirement already satisfied: cycler>=0.10 in c:\\users\\simon\\appdata\\local\\continuum\\anaconda3\\envs\\sgh\\lib\\site-packages (from matplotlib) (0.10.0)\n",
      "Requirement already satisfied: six>=1.5 in c:\\users\\simon\\appdata\\local\\continuum\\anaconda3\\envs\\sgh\\lib\\site-packages (from python-dateutil>=2.1->matplotlib) (1.15.0)\n",
      "Requirement already satisfied: seaborn in c:\\users\\simon\\appdata\\local\\continuum\\anaconda3\\envs\\sgh\\lib\\site-packages (0.11.0)\n",
      "Requirement already satisfied: numpy>=1.15 in c:\\users\\simon\\appdata\\local\\continuum\\anaconda3\\envs\\sgh\\lib\\site-packages (from seaborn) (1.19.1)\n",
      "Requirement already satisfied: pandas>=0.23 in c:\\users\\simon\\appdata\\local\\continuum\\anaconda3\\envs\\sgh\\lib\\site-packages (from seaborn) (1.1.3)\n",
      "Requirement already satisfied: matplotlib>=2.2 in c:\\users\\simon\\appdata\\local\\continuum\\anaconda3\\envs\\sgh\\lib\\site-packages (from seaborn) (3.3.1)\n",
      "Requirement already satisfied: scipy>=1.0 in c:\\users\\simon\\appdata\\local\\continuum\\anaconda3\\envs\\sgh\\lib\\site-packages (from seaborn) (1.5.2)\n",
      "Requirement already satisfied: python-dateutil>=2.7.3 in c:\\users\\simon\\appdata\\local\\continuum\\anaconda3\\envs\\sgh\\lib\\site-packages (from pandas>=0.23->seaborn) (2.8.1)\n",
      "Requirement already satisfied: pytz>=2017.2 in c:\\users\\simon\\appdata\\local\\continuum\\anaconda3\\envs\\sgh\\lib\\site-packages (from pandas>=0.23->seaborn) (2020.1)\n",
      "Requirement already satisfied: cycler>=0.10 in c:\\users\\simon\\appdata\\local\\continuum\\anaconda3\\envs\\sgh\\lib\\site-packages (from matplotlib>=2.2->seaborn) (0.10.0)\n",
      "Requirement already satisfied: pillow>=6.2.0 in c:\\users\\simon\\appdata\\local\\continuum\\anaconda3\\envs\\sgh\\lib\\site-packages (from matplotlib>=2.2->seaborn) (7.2.0)\n",
      "Requirement already satisfied: pyparsing!=2.0.4,!=2.1.2,!=2.1.6,>=2.0.3 in c:\\users\\simon\\appdata\\local\\continuum\\anaconda3\\envs\\sgh\\lib\\site-packages (from matplotlib>=2.2->seaborn) (2.4.7)\n",
      "Requirement already satisfied: certifi>=2020.06.20 in c:\\users\\simon\\appdata\\local\\continuum\\anaconda3\\envs\\sgh\\lib\\site-packages (from matplotlib>=2.2->seaborn) (2020.6.20)\n",
      "Requirement already satisfied: kiwisolver>=1.0.1 in c:\\users\\simon\\appdata\\local\\continuum\\anaconda3\\envs\\sgh\\lib\\site-packages (from matplotlib>=2.2->seaborn) (1.2.0)\n",
      "Requirement already satisfied: six>=1.5 in c:\\users\\simon\\appdata\\local\\continuum\\anaconda3\\envs\\sgh\\lib\\site-packages (from python-dateutil>=2.7.3->pandas>=0.23->seaborn) (1.15.0)\n"
     ]
    }
   ],
   "source": [
    "# Installation of required packages (If not packages were not available)\n",
    "! pip install numpy\n",
    "! pip install pandas\n",
    "! pip install matplotlib\n",
    "! pip install seaborn"
   ]
  },
  {
   "cell_type": "code",
   "execution_count": 2,
   "metadata": {},
   "outputs": [],
   "source": [
    "import sqlite3\n",
    "\n",
    "import numpy as np\n",
    "import pandas as pd\n",
    "\n",
    "import seaborn as sns\n",
    "import matplotlib.pyplot as plt"
   ]
  },
  {
   "cell_type": "markdown",
   "metadata": {},
   "source": [
    "## Import data into pandas dataframe"
   ]
  },
  {
   "cell_type": "code",
   "execution_count": 3,
   "metadata": {},
   "outputs": [],
   "source": [
    "malaria_deaths_path = 'https://raw.githubusercontent.com/rfordatascience/tidytuesday/master/data/2018/2018-11-13/malaria_deaths.csv'\n",
    "malaria_deaths_age_path = 'https://raw.githubusercontent.com/rfordatascience/tidytuesday/master/data/2018/2018-11-13/malaria_deaths_age.csv'\n",
    "malaria_inc_path = 'https://raw.githubusercontent.com/rfordatascience/tidytuesday/master/data/2018/2018-11-13/malaria_inc.csv'"
   ]
  },
  {
   "cell_type": "code",
   "execution_count": 4,
   "metadata": {},
   "outputs": [
    {
     "name": "stdout",
     "output_type": "stream",
     "text": [
      "Original Column Headings\n",
      "malaria_deaths_df columns: ['Entity', 'Code', 'Year', 'Deaths - Malaria - Sex: Both - Age: Age-standardized (Rate) (per 100,000 people)']\n",
      "malaria_deaths_age_df columns: ['entity', 'code', 'year', 'age_group', 'deaths']\n",
      "malaria_inc_df columns: ['Entity', 'Code', 'Year', 'Incidence of malaria (per 1,000 population at risk) (per 1,000 population at risk)']\n",
      "\n",
      "New Column Headings\n",
      "malaria_deaths_df columns: ['entity', 'code', 'year', 'deaths']\n",
      "malaria_deaths_age_df columns: ['entity', 'code', 'year', 'age_group', 'deaths']\n",
      "malaria_inc_df columns: ['entity', 'code', 'year', 'incidence']\n"
     ]
    }
   ],
   "source": [
    "malaria_deaths_df = pd.read_csv(malaria_deaths_path)\n",
    "malaria_deaths_age_df = pd.read_csv(malaria_deaths_age_path, index_col=0)\n",
    "malaria_inc_df = pd.read_csv(malaria_inc_path)\n",
    "\n",
    "print('Original Column Headings')\n",
    "print(f'malaria_deaths_df columns: {list(malaria_deaths_df.columns)}')\n",
    "print(f'malaria_deaths_age_df columns: {list(malaria_deaths_age_df.columns)}')\n",
    "print(f'malaria_inc_df columns: {list(malaria_inc_df.columns)}')\n",
    "\n",
    "malaria_deaths_df.columns = ['entity', 'code', 'year', 'deaths']\n",
    "malaria_inc_df.columns = ['entity', 'code', 'year', 'incidence']\n",
    "\n",
    "print('\\nNew Column Headings')\n",
    "print(f'malaria_deaths_df columns: {list(malaria_deaths_df.columns)}')\n",
    "print(f'malaria_deaths_age_df columns: {list(malaria_deaths_age_df.columns)}')\n",
    "print(f'malaria_inc_df columns: {list(malaria_inc_df.columns)}')\n"
   ]
  },
  {
   "cell_type": "markdown",
   "metadata": {},
   "source": [
    "## Basic Inspection of the dataset"
   ]
  },
  {
   "cell_type": "markdown",
   "metadata": {},
   "source": [
    "### Inspect head of dataframe"
   ]
  },
  {
   "cell_type": "code",
   "execution_count": 5,
   "metadata": {},
   "outputs": [
    {
     "name": "stdout",
     "output_type": "stream",
     "text": [
      "malaria_deaths_df\n"
     ]
    },
    {
     "data": {
      "text/html": [
       "<div>\n",
       "<style scoped>\n",
       "    .dataframe tbody tr th:only-of-type {\n",
       "        vertical-align: middle;\n",
       "    }\n",
       "\n",
       "    .dataframe tbody tr th {\n",
       "        vertical-align: top;\n",
       "    }\n",
       "\n",
       "    .dataframe thead th {\n",
       "        text-align: right;\n",
       "    }\n",
       "</style>\n",
       "<table border=\"1\" class=\"dataframe\">\n",
       "  <thead>\n",
       "    <tr style=\"text-align: right;\">\n",
       "      <th></th>\n",
       "      <th>entity</th>\n",
       "      <th>code</th>\n",
       "      <th>year</th>\n",
       "      <th>deaths</th>\n",
       "    </tr>\n",
       "  </thead>\n",
       "  <tbody>\n",
       "    <tr>\n",
       "      <th>0</th>\n",
       "      <td>Afghanistan</td>\n",
       "      <td>AFG</td>\n",
       "      <td>1990</td>\n",
       "      <td>6.802930</td>\n",
       "    </tr>\n",
       "    <tr>\n",
       "      <th>1</th>\n",
       "      <td>Afghanistan</td>\n",
       "      <td>AFG</td>\n",
       "      <td>1991</td>\n",
       "      <td>6.973494</td>\n",
       "    </tr>\n",
       "    <tr>\n",
       "      <th>2</th>\n",
       "      <td>Afghanistan</td>\n",
       "      <td>AFG</td>\n",
       "      <td>1992</td>\n",
       "      <td>6.989882</td>\n",
       "    </tr>\n",
       "    <tr>\n",
       "      <th>3</th>\n",
       "      <td>Afghanistan</td>\n",
       "      <td>AFG</td>\n",
       "      <td>1993</td>\n",
       "      <td>7.088983</td>\n",
       "    </tr>\n",
       "    <tr>\n",
       "      <th>4</th>\n",
       "      <td>Afghanistan</td>\n",
       "      <td>AFG</td>\n",
       "      <td>1994</td>\n",
       "      <td>7.392472</td>\n",
       "    </tr>\n",
       "  </tbody>\n",
       "</table>\n",
       "</div>"
      ],
      "text/plain": [
       "        entity code  year    deaths\n",
       "0  Afghanistan  AFG  1990  6.802930\n",
       "1  Afghanistan  AFG  1991  6.973494\n",
       "2  Afghanistan  AFG  1992  6.989882\n",
       "3  Afghanistan  AFG  1993  7.088983\n",
       "4  Afghanistan  AFG  1994  7.392472"
      ]
     },
     "execution_count": 5,
     "metadata": {},
     "output_type": "execute_result"
    }
   ],
   "source": [
    "print('malaria_deaths_df')\n",
    "malaria_deaths_df.head()"
   ]
  },
  {
   "cell_type": "code",
   "execution_count": 6,
   "metadata": {},
   "outputs": [
    {
     "name": "stdout",
     "output_type": "stream",
     "text": [
      "malaria_deaths_age_df\n"
     ]
    },
    {
     "data": {
      "text/html": [
       "<div>\n",
       "<style scoped>\n",
       "    .dataframe tbody tr th:only-of-type {\n",
       "        vertical-align: middle;\n",
       "    }\n",
       "\n",
       "    .dataframe tbody tr th {\n",
       "        vertical-align: top;\n",
       "    }\n",
       "\n",
       "    .dataframe thead th {\n",
       "        text-align: right;\n",
       "    }\n",
       "</style>\n",
       "<table border=\"1\" class=\"dataframe\">\n",
       "  <thead>\n",
       "    <tr style=\"text-align: right;\">\n",
       "      <th></th>\n",
       "      <th>entity</th>\n",
       "      <th>code</th>\n",
       "      <th>year</th>\n",
       "      <th>age_group</th>\n",
       "      <th>deaths</th>\n",
       "    </tr>\n",
       "  </thead>\n",
       "  <tbody>\n",
       "    <tr>\n",
       "      <th>1</th>\n",
       "      <td>Afghanistan</td>\n",
       "      <td>AFG</td>\n",
       "      <td>1990</td>\n",
       "      <td>Under 5</td>\n",
       "      <td>184.606435</td>\n",
       "    </tr>\n",
       "    <tr>\n",
       "      <th>2</th>\n",
       "      <td>Afghanistan</td>\n",
       "      <td>AFG</td>\n",
       "      <td>1991</td>\n",
       "      <td>Under 5</td>\n",
       "      <td>191.658193</td>\n",
       "    </tr>\n",
       "    <tr>\n",
       "      <th>3</th>\n",
       "      <td>Afghanistan</td>\n",
       "      <td>AFG</td>\n",
       "      <td>1992</td>\n",
       "      <td>Under 5</td>\n",
       "      <td>197.140197</td>\n",
       "    </tr>\n",
       "    <tr>\n",
       "      <th>4</th>\n",
       "      <td>Afghanistan</td>\n",
       "      <td>AFG</td>\n",
       "      <td>1993</td>\n",
       "      <td>Under 5</td>\n",
       "      <td>207.357753</td>\n",
       "    </tr>\n",
       "    <tr>\n",
       "      <th>5</th>\n",
       "      <td>Afghanistan</td>\n",
       "      <td>AFG</td>\n",
       "      <td>1994</td>\n",
       "      <td>Under 5</td>\n",
       "      <td>226.209363</td>\n",
       "    </tr>\n",
       "  </tbody>\n",
       "</table>\n",
       "</div>"
      ],
      "text/plain": [
       "        entity code  year age_group      deaths\n",
       "1  Afghanistan  AFG  1990   Under 5  184.606435\n",
       "2  Afghanistan  AFG  1991   Under 5  191.658193\n",
       "3  Afghanistan  AFG  1992   Under 5  197.140197\n",
       "4  Afghanistan  AFG  1993   Under 5  207.357753\n",
       "5  Afghanistan  AFG  1994   Under 5  226.209363"
      ]
     },
     "execution_count": 6,
     "metadata": {},
     "output_type": "execute_result"
    }
   ],
   "source": [
    "print('malaria_deaths_age_df')\n",
    "malaria_deaths_age_df.head()"
   ]
  },
  {
   "cell_type": "code",
   "execution_count": 7,
   "metadata": {},
   "outputs": [
    {
     "name": "stdout",
     "output_type": "stream",
     "text": [
      "malaria_inc_df\n"
     ]
    },
    {
     "data": {
      "text/html": [
       "<div>\n",
       "<style scoped>\n",
       "    .dataframe tbody tr th:only-of-type {\n",
       "        vertical-align: middle;\n",
       "    }\n",
       "\n",
       "    .dataframe tbody tr th {\n",
       "        vertical-align: top;\n",
       "    }\n",
       "\n",
       "    .dataframe thead th {\n",
       "        text-align: right;\n",
       "    }\n",
       "</style>\n",
       "<table border=\"1\" class=\"dataframe\">\n",
       "  <thead>\n",
       "    <tr style=\"text-align: right;\">\n",
       "      <th></th>\n",
       "      <th>entity</th>\n",
       "      <th>code</th>\n",
       "      <th>year</th>\n",
       "      <th>incidence</th>\n",
       "    </tr>\n",
       "  </thead>\n",
       "  <tbody>\n",
       "    <tr>\n",
       "      <th>0</th>\n",
       "      <td>Afghanistan</td>\n",
       "      <td>AFG</td>\n",
       "      <td>2000</td>\n",
       "      <td>107.100000</td>\n",
       "    </tr>\n",
       "    <tr>\n",
       "      <th>1</th>\n",
       "      <td>Afghanistan</td>\n",
       "      <td>AFG</td>\n",
       "      <td>2005</td>\n",
       "      <td>46.500000</td>\n",
       "    </tr>\n",
       "    <tr>\n",
       "      <th>2</th>\n",
       "      <td>Afghanistan</td>\n",
       "      <td>AFG</td>\n",
       "      <td>2010</td>\n",
       "      <td>23.900000</td>\n",
       "    </tr>\n",
       "    <tr>\n",
       "      <th>3</th>\n",
       "      <td>Afghanistan</td>\n",
       "      <td>AFG</td>\n",
       "      <td>2015</td>\n",
       "      <td>23.600000</td>\n",
       "    </tr>\n",
       "    <tr>\n",
       "      <th>4</th>\n",
       "      <td>Algeria</td>\n",
       "      <td>DZA</td>\n",
       "      <td>2000</td>\n",
       "      <td>0.037746</td>\n",
       "    </tr>\n",
       "  </tbody>\n",
       "</table>\n",
       "</div>"
      ],
      "text/plain": [
       "        entity code  year   incidence\n",
       "0  Afghanistan  AFG  2000  107.100000\n",
       "1  Afghanistan  AFG  2005   46.500000\n",
       "2  Afghanistan  AFG  2010   23.900000\n",
       "3  Afghanistan  AFG  2015   23.600000\n",
       "4      Algeria  DZA  2000    0.037746"
      ]
     },
     "execution_count": 7,
     "metadata": {},
     "output_type": "execute_result"
    }
   ],
   "source": [
    "print('malaria_inc_df')\n",
    "malaria_inc_df.head()"
   ]
  },
  {
   "cell_type": "markdown",
   "metadata": {},
   "source": [
    "### Identify missing data in the dataset"
   ]
  },
  {
   "cell_type": "code",
   "execution_count": 8,
   "metadata": {},
   "outputs": [
    {
     "name": "stdout",
     "output_type": "stream",
     "text": [
      "<class 'pandas.core.frame.DataFrame'>\n",
      "RangeIndex: 6156 entries, 0 to 6155\n",
      "Data columns (total 4 columns):\n",
      " #   Column  Non-Null Count  Dtype  \n",
      "---  ------  --------------  -----  \n",
      " 0   entity  6156 non-null   object \n",
      " 1   code    5292 non-null   object \n",
      " 2   year    6156 non-null   int64  \n",
      " 3   deaths  6156 non-null   float64\n",
      "dtypes: float64(1), int64(1), object(2)\n",
      "memory usage: 192.5+ KB\n"
     ]
    }
   ],
   "source": [
    "malaria_deaths_df.info()"
   ]
  },
  {
   "cell_type": "code",
   "execution_count": 9,
   "metadata": {},
   "outputs": [
    {
     "name": "stdout",
     "output_type": "stream",
     "text": [
      "<class 'pandas.core.frame.DataFrame'>\n",
      "Int64Index: 30780 entries, 1 to 30780\n",
      "Data columns (total 5 columns):\n",
      " #   Column     Non-Null Count  Dtype  \n",
      "---  ------     --------------  -----  \n",
      " 0   entity     30780 non-null  object \n",
      " 1   code       26460 non-null  object \n",
      " 2   year       30780 non-null  int64  \n",
      " 3   age_group  30780 non-null  object \n",
      " 4   deaths     30780 non-null  float64\n",
      "dtypes: float64(1), int64(1), object(3)\n",
      "memory usage: 1.4+ MB\n"
     ]
    }
   ],
   "source": [
    "malaria_deaths_age_df.info()"
   ]
  },
  {
   "cell_type": "code",
   "execution_count": 10,
   "metadata": {},
   "outputs": [
    {
     "name": "stdout",
     "output_type": "stream",
     "text": [
      "<class 'pandas.core.frame.DataFrame'>\n",
      "RangeIndex: 508 entries, 0 to 507\n",
      "Data columns (total 4 columns):\n",
      " #   Column     Non-Null Count  Dtype  \n",
      "---  ------     --------------  -----  \n",
      " 0   entity     508 non-null    object \n",
      " 1   code       400 non-null    object \n",
      " 2   year       508 non-null    int64  \n",
      " 3   incidence  508 non-null    float64\n",
      "dtypes: float64(1), int64(1), object(2)\n",
      "memory usage: 16.0+ KB\n"
     ]
    }
   ],
   "source": [
    "malaria_inc_df.info()"
   ]
  },
  {
   "cell_type": "markdown",
   "metadata": {},
   "source": [
    "While there were no missing data for most columns, there are missing data for the `code` column for all 3 dataframe."
   ]
  },
  {
   "cell_type": "markdown",
   "metadata": {},
   "source": [
    "#### Inspect entities that have missing code"
   ]
  },
  {
   "cell_type": "code",
   "execution_count": 11,
   "metadata": {},
   "outputs": [],
   "source": [
    "def print_entity_with_missing_code(df):\n",
    "    \"\"\"\n",
    "    Print the list of entity that have missing code in the dataframe\n",
    "    \"\"\"\n",
    "    unique_entity = df[['entity', 'code']].drop_duplicates()\n",
    "    unique_entity_missing_code = unique_entity[unique_entity.code.isnull()]\n",
    "    print(unique_entity_missing_code)"
   ]
  },
  {
   "cell_type": "code",
   "execution_count": 12,
   "metadata": {},
   "outputs": [
    {
     "name": "stdout",
     "output_type": "stream",
     "text": [
      "Entity with missing code for malaria_deaths_df\n",
      "                            entity code\n",
      "108           Andean Latin America  NaN\n",
      "270                    Australasia  NaN\n",
      "972                      Caribbean  NaN\n",
      "1026                  Central Asia  NaN\n",
      "1053                Central Europe  NaN\n",
      "1080         Central Latin America  NaN\n",
      "1107    Central Sub-Saharan Africa  NaN\n",
      "1593                     East Asia  NaN\n",
      "1620                Eastern Europe  NaN\n",
      "1647    Eastern Sub-Saharan Africa  NaN\n",
      "1755                       England  NaN\n",
      "2349                      High SDI  NaN\n",
      "2376      High-income Asia Pacific  NaN\n",
      "2403               High-middle SDI  NaN\n",
      "2943   Latin America and Caribbean  NaN\n",
      "3132                       Low SDI  NaN\n",
      "3159                Low-middle SDI  NaN\n",
      "3537                    Middle SDI  NaN\n",
      "3915  North Africa and Middle East  NaN\n",
      "3942                 North America  NaN\n",
      "3996              Northern Ireland  NaN\n",
      "4077                       Oceania  NaN\n",
      "4644                      Scotland  NaN\n",
      "4941                    South Asia  NaN\n",
      "5022                Southeast Asia  NaN\n",
      "5049        Southern Latin America  NaN\n",
      "5076   Southern Sub-Saharan Africa  NaN\n",
      "5157            Sub-Saharan Africa  NaN\n",
      "5562        Tropical Latin America  NaN\n",
      "5967                         Wales  NaN\n",
      "5994                Western Europe  NaN\n",
      "6021    Western Sub-Saharan Africa  NaN\n",
      "\n",
      "Entity with missing code for malaria_deaths_age_df\n",
      "                            entity code\n",
      "109           Andean Latin America  NaN\n",
      "271                    Australasia  NaN\n",
      "973                      Caribbean  NaN\n",
      "1027                  Central Asia  NaN\n",
      "1054                Central Europe  NaN\n",
      "1081         Central Latin America  NaN\n",
      "1108    Central Sub-Saharan Africa  NaN\n",
      "1594                     East Asia  NaN\n",
      "1621                Eastern Europe  NaN\n",
      "1648    Eastern Sub-Saharan Africa  NaN\n",
      "1756                       England  NaN\n",
      "2350                      High SDI  NaN\n",
      "2377      High-income Asia Pacific  NaN\n",
      "2404               High-middle SDI  NaN\n",
      "2944   Latin America and Caribbean  NaN\n",
      "3133                       Low SDI  NaN\n",
      "3160                Low-middle SDI  NaN\n",
      "3538                    Middle SDI  NaN\n",
      "3916  North Africa and Middle East  NaN\n",
      "3943                 North America  NaN\n",
      "3997              Northern Ireland  NaN\n",
      "4078                       Oceania  NaN\n",
      "4645                      Scotland  NaN\n",
      "4942                    South Asia  NaN\n",
      "5023                Southeast Asia  NaN\n",
      "5050        Southern Latin America  NaN\n",
      "5077   Southern Sub-Saharan Africa  NaN\n",
      "5158            Sub-Saharan Africa  NaN\n",
      "5563        Tropical Latin America  NaN\n",
      "5968                         Wales  NaN\n",
      "5995                Western Europe  NaN\n",
      "6022    Western Sub-Saharan Africa  NaN\n",
      "\n",
      "Entity with missing code for malaria_inc_df\n",
      "                                                entity code\n",
      "112                         Early-demographic dividend  NaN\n",
      "116                                East Asia & Pacific  NaN\n",
      "120                   East Asia & Pacific (IDA & IBRD)  NaN\n",
      "124        East Asia & Pacific (excluding high income)  NaN\n",
      "148           Fragile and conflict affected situations  NaN\n",
      "188             Heavily indebted poor countries (HIPC)  NaN\n",
      "196                                          IBRD only  NaN\n",
      "200                                   IDA & IBRD total  NaN\n",
      "204                                          IDA blend  NaN\n",
      "208                                           IDA only  NaN\n",
      "212                                          IDA total  NaN\n",
      "244                          Late-demographic dividend  NaN\n",
      "248                          Latin America & Caribbean  NaN\n",
      "252             Latin America & Caribbean (IDA & IBRD)  NaN\n",
      "256  Latin America & Caribbean (excluding high income)  NaN\n",
      "260       Least developed countries: UN classification  NaN\n",
      "268                                Low & middle income  NaN\n",
      "272                                         Low income  NaN\n",
      "276                                Lower middle income  NaN\n",
      "304                                      Middle income  NaN\n",
      "364                           Pre-demographic dividend  NaN\n",
      "400                                         South Asia  NaN\n",
      "404                            South Asia (IDA & IBRD)  NaN\n",
      "420                                 Sub-Saharan Africa  NaN\n",
      "424                    Sub-Saharan Africa (IDA & IBRD)  NaN\n",
      "428         Sub-Saharan Africa (excluding high income)  NaN\n",
      "472                                Upper middle income  NaN\n"
     ]
    }
   ],
   "source": [
    "print('Entity with missing code for malaria_deaths_df')\n",
    "print_entity_with_missing_code(malaria_deaths_df)\n",
    "\n",
    "print('\\nEntity with missing code for malaria_deaths_age_df')\n",
    "print_entity_with_missing_code(malaria_deaths_age_df)\n",
    "\n",
    "print('\\nEntity with missing code for malaria_inc_df')\n",
    "print_entity_with_missing_code(malaria_inc_df)"
   ]
  },
  {
   "cell_type": "markdown",
   "metadata": {},
   "source": [
    "`code` are country code of the respective countries. Some entities exist without `code` becuase they are non-country entities, such as geographical regions, cities, economic status. These information might provide insights later during visualisation, thus they are being kept for now."
   ]
  },
  {
   "cell_type": "markdown",
   "metadata": {},
   "source": [
    "### Sanity checks on data"
   ]
  },
  {
   "cell_type": "code",
   "execution_count": 13,
   "metadata": {},
   "outputs": [
    {
     "data": {
      "text/html": [
       "<div>\n",
       "<style scoped>\n",
       "    .dataframe tbody tr th:only-of-type {\n",
       "        vertical-align: middle;\n",
       "    }\n",
       "\n",
       "    .dataframe tbody tr th {\n",
       "        vertical-align: top;\n",
       "    }\n",
       "\n",
       "    .dataframe thead th {\n",
       "        text-align: right;\n",
       "    }\n",
       "</style>\n",
       "<table border=\"1\" class=\"dataframe\">\n",
       "  <thead>\n",
       "    <tr style=\"text-align: right;\">\n",
       "      <th></th>\n",
       "      <th>year</th>\n",
       "      <th>deaths</th>\n",
       "    </tr>\n",
       "  </thead>\n",
       "  <tbody>\n",
       "    <tr>\n",
       "      <th>count</th>\n",
       "      <td>6156.000000</td>\n",
       "      <td>6156.000000</td>\n",
       "    </tr>\n",
       "    <tr>\n",
       "      <th>mean</th>\n",
       "      <td>2003.000000</td>\n",
       "      <td>16.375074</td>\n",
       "    </tr>\n",
       "    <tr>\n",
       "      <th>std</th>\n",
       "      <td>7.789514</td>\n",
       "      <td>38.606219</td>\n",
       "    </tr>\n",
       "    <tr>\n",
       "      <th>min</th>\n",
       "      <td>1990.000000</td>\n",
       "      <td>0.000000</td>\n",
       "    </tr>\n",
       "    <tr>\n",
       "      <th>25%</th>\n",
       "      <td>1996.000000</td>\n",
       "      <td>0.000000</td>\n",
       "    </tr>\n",
       "    <tr>\n",
       "      <th>50%</th>\n",
       "      <td>2003.000000</td>\n",
       "      <td>0.020219</td>\n",
       "    </tr>\n",
       "    <tr>\n",
       "      <th>75%</th>\n",
       "      <td>2010.000000</td>\n",
       "      <td>3.891035</td>\n",
       "    </tr>\n",
       "    <tr>\n",
       "      <th>max</th>\n",
       "      <td>2016.000000</td>\n",
       "      <td>229.228881</td>\n",
       "    </tr>\n",
       "  </tbody>\n",
       "</table>\n",
       "</div>"
      ],
      "text/plain": [
       "              year       deaths\n",
       "count  6156.000000  6156.000000\n",
       "mean   2003.000000    16.375074\n",
       "std       7.789514    38.606219\n",
       "min    1990.000000     0.000000\n",
       "25%    1996.000000     0.000000\n",
       "50%    2003.000000     0.020219\n",
       "75%    2010.000000     3.891035\n",
       "max    2016.000000   229.228881"
      ]
     },
     "execution_count": 13,
     "metadata": {},
     "output_type": "execute_result"
    }
   ],
   "source": [
    "malaria_deaths_df.describe()"
   ]
  },
  {
   "cell_type": "code",
   "execution_count": 14,
   "metadata": {},
   "outputs": [
    {
     "data": {
      "text/html": [
       "<div>\n",
       "<style scoped>\n",
       "    .dataframe tbody tr th:only-of-type {\n",
       "        vertical-align: middle;\n",
       "    }\n",
       "\n",
       "    .dataframe tbody tr th {\n",
       "        vertical-align: top;\n",
       "    }\n",
       "\n",
       "    .dataframe thead th {\n",
       "        text-align: right;\n",
       "    }\n",
       "</style>\n",
       "<table border=\"1\" class=\"dataframe\">\n",
       "  <thead>\n",
       "    <tr style=\"text-align: right;\">\n",
       "      <th></th>\n",
       "      <th>year</th>\n",
       "      <th>deaths</th>\n",
       "    </tr>\n",
       "  </thead>\n",
       "  <tbody>\n",
       "    <tr>\n",
       "      <th>count</th>\n",
       "      <td>30780.000000</td>\n",
       "      <td>30780.000000</td>\n",
       "    </tr>\n",
       "    <tr>\n",
       "      <th>mean</th>\n",
       "      <td>2003.000000</td>\n",
       "      <td>3698.550438</td>\n",
       "    </tr>\n",
       "    <tr>\n",
       "      <th>std</th>\n",
       "      <td>7.789007</td>\n",
       "      <td>33539.059413</td>\n",
       "    </tr>\n",
       "    <tr>\n",
       "      <th>min</th>\n",
       "      <td>1990.000000</td>\n",
       "      <td>0.000000</td>\n",
       "    </tr>\n",
       "    <tr>\n",
       "      <th>25%</th>\n",
       "      <td>1996.000000</td>\n",
       "      <td>0.000000</td>\n",
       "    </tr>\n",
       "    <tr>\n",
       "      <th>50%</th>\n",
       "      <td>2003.000000</td>\n",
       "      <td>0.123451</td>\n",
       "    </tr>\n",
       "    <tr>\n",
       "      <th>75%</th>\n",
       "      <td>2010.000000</td>\n",
       "      <td>80.505605</td>\n",
       "    </tr>\n",
       "    <tr>\n",
       "      <th>max</th>\n",
       "      <td>2016.000000</td>\n",
       "      <td>752025.548675</td>\n",
       "    </tr>\n",
       "  </tbody>\n",
       "</table>\n",
       "</div>"
      ],
      "text/plain": [
       "               year         deaths\n",
       "count  30780.000000   30780.000000\n",
       "mean    2003.000000    3698.550438\n",
       "std        7.789007   33539.059413\n",
       "min     1990.000000       0.000000\n",
       "25%     1996.000000       0.000000\n",
       "50%     2003.000000       0.123451\n",
       "75%     2010.000000      80.505605\n",
       "max     2016.000000  752025.548675"
      ]
     },
     "execution_count": 14,
     "metadata": {},
     "output_type": "execute_result"
    }
   ],
   "source": [
    "malaria_deaths_age_df.describe()"
   ]
  },
  {
   "cell_type": "markdown",
   "metadata": {},
   "source": [
    "For `malaria_deaths_df`, `deaths` is the death rate per 100,000 people. In the original dataset, there were not elaborate description about `deaths` for `malaria_deaths_age_df`. The values for `deaths` in `malaria_deaths_age_df` are generally higher than `malaria_deaths_df`. In addition, the maximum value of `deaths` for `malaria_deaths_age_df` is `752,025`. Hence, it is unlikely that `deaths` in `malaria_deaths_age_df` is also death rate per 100,000 people."
   ]
  },
  {
   "cell_type": "code",
   "execution_count": 15,
   "metadata": {},
   "outputs": [
    {
     "data": {
      "text/html": [
       "<div>\n",
       "<style scoped>\n",
       "    .dataframe tbody tr th:only-of-type {\n",
       "        vertical-align: middle;\n",
       "    }\n",
       "\n",
       "    .dataframe tbody tr th {\n",
       "        vertical-align: top;\n",
       "    }\n",
       "\n",
       "    .dataframe thead th {\n",
       "        text-align: right;\n",
       "    }\n",
       "</style>\n",
       "<table border=\"1\" class=\"dataframe\">\n",
       "  <thead>\n",
       "    <tr style=\"text-align: right;\">\n",
       "      <th></th>\n",
       "      <th>year</th>\n",
       "      <th>incidence</th>\n",
       "    </tr>\n",
       "  </thead>\n",
       "  <tbody>\n",
       "    <tr>\n",
       "      <th>count</th>\n",
       "      <td>508.00000</td>\n",
       "      <td>508.000000</td>\n",
       "    </tr>\n",
       "    <tr>\n",
       "      <th>mean</th>\n",
       "      <td>2007.50000</td>\n",
       "      <td>141.714565</td>\n",
       "    </tr>\n",
       "    <tr>\n",
       "      <th>std</th>\n",
       "      <td>5.59568</td>\n",
       "      <td>176.637900</td>\n",
       "    </tr>\n",
       "    <tr>\n",
       "      <th>min</th>\n",
       "      <td>2000.00000</td>\n",
       "      <td>0.000000</td>\n",
       "    </tr>\n",
       "    <tr>\n",
       "      <th>25%</th>\n",
       "      <td>2003.75000</td>\n",
       "      <td>6.986310</td>\n",
       "    </tr>\n",
       "    <tr>\n",
       "      <th>50%</th>\n",
       "      <td>2007.50000</td>\n",
       "      <td>57.050000</td>\n",
       "    </tr>\n",
       "    <tr>\n",
       "      <th>75%</th>\n",
       "      <td>2011.25000</td>\n",
       "      <td>246.050000</td>\n",
       "    </tr>\n",
       "    <tr>\n",
       "      <th>max</th>\n",
       "      <td>2015.00000</td>\n",
       "      <td>1741.000000</td>\n",
       "    </tr>\n",
       "  </tbody>\n",
       "</table>\n",
       "</div>"
      ],
      "text/plain": [
       "             year    incidence\n",
       "count   508.00000   508.000000\n",
       "mean   2007.50000   141.714565\n",
       "std       5.59568   176.637900\n",
       "min    2000.00000     0.000000\n",
       "25%    2003.75000     6.986310\n",
       "50%    2007.50000    57.050000\n",
       "75%    2011.25000   246.050000\n",
       "max    2015.00000  1741.000000"
      ]
     },
     "execution_count": 15,
     "metadata": {},
     "output_type": "execute_result"
    }
   ],
   "source": [
    "malaria_inc_df.describe()"
   ]
  },
  {
   "cell_type": "markdown",
   "metadata": {},
   "source": [
    "`incidence` for `malaria_inc_df` suppose to refer to the rate of incidence per 1000 population. Hence, it is not logical for the maximum value for `incidence` to be 1741 (larger than 1000).\n",
    "\n",
    "**Note:** The time period for `malaria_deaths_df` and `malaria_deaths_age_df` are from 1990 to 2016. However, the time period for `malaria_inc_df` is only from 2000 to 2015. So it will be impossible to do correlation between death and incidence of malaria outside the period 2000 to 2015."
   ]
  },
  {
   "cell_type": "code",
   "execution_count": 16,
   "metadata": {},
   "outputs": [
    {
     "data": {
      "text/html": [
       "<div>\n",
       "<style scoped>\n",
       "    .dataframe tbody tr th:only-of-type {\n",
       "        vertical-align: middle;\n",
       "    }\n",
       "\n",
       "    .dataframe tbody tr th {\n",
       "        vertical-align: top;\n",
       "    }\n",
       "\n",
       "    .dataframe thead th {\n",
       "        text-align: right;\n",
       "    }\n",
       "</style>\n",
       "<table border=\"1\" class=\"dataframe\">\n",
       "  <thead>\n",
       "    <tr style=\"text-align: right;\">\n",
       "      <th></th>\n",
       "      <th>entity</th>\n",
       "      <th>code</th>\n",
       "      <th>year</th>\n",
       "      <th>incidence</th>\n",
       "    </tr>\n",
       "  </thead>\n",
       "  <tbody>\n",
       "    <tr>\n",
       "      <th>464</th>\n",
       "      <td>Turkey</td>\n",
       "      <td>TUR</td>\n",
       "      <td>2000</td>\n",
       "      <td>1741.0</td>\n",
       "    </tr>\n",
       "  </tbody>\n",
       "</table>\n",
       "</div>"
      ],
      "text/plain": [
       "     entity code  year  incidence\n",
       "464  Turkey  TUR  2000     1741.0"
      ]
     },
     "execution_count": 16,
     "metadata": {},
     "output_type": "execute_result"
    }
   ],
   "source": [
    "malaria_inc_df[malaria_inc_df['incidence'] > 1000]"
   ]
  },
  {
   "cell_type": "markdown",
   "metadata": {},
   "source": [
    "There is only 1 instance of `incidence` (rate of incidence per 1000 population) above 1000, thus it is likely that this is due to an error in the data. This error was made for the `Turkey`."
   ]
  },
  {
   "cell_type": "code",
   "execution_count": 17,
   "metadata": {},
   "outputs": [
    {
     "data": {
      "text/html": [
       "<div>\n",
       "<style scoped>\n",
       "    .dataframe tbody tr th:only-of-type {\n",
       "        vertical-align: middle;\n",
       "    }\n",
       "\n",
       "    .dataframe tbody tr th {\n",
       "        vertical-align: top;\n",
       "    }\n",
       "\n",
       "    .dataframe thead th {\n",
       "        text-align: right;\n",
       "    }\n",
       "</style>\n",
       "<table border=\"1\" class=\"dataframe\">\n",
       "  <thead>\n",
       "    <tr style=\"text-align: right;\">\n",
       "      <th></th>\n",
       "      <th>entity</th>\n",
       "      <th>code</th>\n",
       "      <th>year</th>\n",
       "      <th>incidence</th>\n",
       "    </tr>\n",
       "  </thead>\n",
       "  <tbody>\n",
       "    <tr>\n",
       "      <th>464</th>\n",
       "      <td>Turkey</td>\n",
       "      <td>TUR</td>\n",
       "      <td>2000</td>\n",
       "      <td>1741.0</td>\n",
       "    </tr>\n",
       "    <tr>\n",
       "      <th>465</th>\n",
       "      <td>Turkey</td>\n",
       "      <td>TUR</td>\n",
       "      <td>2005</td>\n",
       "      <td>295.8</td>\n",
       "    </tr>\n",
       "    <tr>\n",
       "      <th>466</th>\n",
       "      <td>Turkey</td>\n",
       "      <td>TUR</td>\n",
       "      <td>2010</td>\n",
       "      <td>0.0</td>\n",
       "    </tr>\n",
       "    <tr>\n",
       "      <th>467</th>\n",
       "      <td>Turkey</td>\n",
       "      <td>TUR</td>\n",
       "      <td>2015</td>\n",
       "      <td>0.0</td>\n",
       "    </tr>\n",
       "  </tbody>\n",
       "</table>\n",
       "</div>"
      ],
      "text/plain": [
       "     entity code  year  incidence\n",
       "464  Turkey  TUR  2000     1741.0\n",
       "465  Turkey  TUR  2005      295.8\n",
       "466  Turkey  TUR  2010        0.0\n",
       "467  Turkey  TUR  2015        0.0"
      ]
     },
     "execution_count": 17,
     "metadata": {},
     "output_type": "execute_result"
    }
   ],
   "source": [
    "malaria_inc_df[malaria_inc_df['entity'] == 'Turkey']"
   ]
  },
  {
   "cell_type": "markdown",
   "metadata": {},
   "source": [
    "Online articles reported that the number of malaria case in Turkey drop significantly during the period of 2000 to 2015, which was also reflected in the data. "
   ]
  },
  {
   "cell_type": "code",
   "execution_count": 18,
   "metadata": {},
   "outputs": [
    {
     "data": {
      "text/html": [
       "<div>\n",
       "<style scoped>\n",
       "    .dataframe tbody tr th:only-of-type {\n",
       "        vertical-align: middle;\n",
       "    }\n",
       "\n",
       "    .dataframe tbody tr th {\n",
       "        vertical-align: top;\n",
       "    }\n",
       "\n",
       "    .dataframe thead th {\n",
       "        text-align: right;\n",
       "    }\n",
       "</style>\n",
       "<table border=\"1\" class=\"dataframe\">\n",
       "  <thead>\n",
       "    <tr style=\"text-align: right;\">\n",
       "      <th></th>\n",
       "      <th>entity</th>\n",
       "      <th>code</th>\n",
       "      <th>year</th>\n",
       "      <th>incidence</th>\n",
       "    </tr>\n",
       "  </thead>\n",
       "  <tbody>\n",
       "    <tr>\n",
       "      <th>464</th>\n",
       "      <td>Turkey</td>\n",
       "      <td>TUR</td>\n",
       "      <td>2000</td>\n",
       "      <td>1000.0</td>\n",
       "    </tr>\n",
       "    <tr>\n",
       "      <th>465</th>\n",
       "      <td>Turkey</td>\n",
       "      <td>TUR</td>\n",
       "      <td>2005</td>\n",
       "      <td>295.8</td>\n",
       "    </tr>\n",
       "    <tr>\n",
       "      <th>466</th>\n",
       "      <td>Turkey</td>\n",
       "      <td>TUR</td>\n",
       "      <td>2010</td>\n",
       "      <td>0.0</td>\n",
       "    </tr>\n",
       "    <tr>\n",
       "      <th>467</th>\n",
       "      <td>Turkey</td>\n",
       "      <td>TUR</td>\n",
       "      <td>2015</td>\n",
       "      <td>0.0</td>\n",
       "    </tr>\n",
       "  </tbody>\n",
       "</table>\n",
       "</div>"
      ],
      "text/plain": [
       "     entity code  year  incidence\n",
       "464  Turkey  TUR  2000     1000.0\n",
       "465  Turkey  TUR  2005      295.8\n",
       "466  Turkey  TUR  2010        0.0\n",
       "467  Turkey  TUR  2015        0.0"
      ]
     },
     "execution_count": 18,
     "metadata": {},
     "output_type": "execute_result"
    }
   ],
   "source": [
    "# Incidence of malaria in turkey in 2000 was corrected to 1000 (the maximum logical value for `incidence`)\n",
    "malaria_inc_df.iloc[464,3] = 1000\n",
    "malaria_inc_df[malaria_inc_df['entity'] == 'Turkey']"
   ]
  },
  {
   "cell_type": "code",
   "execution_count": 19,
   "metadata": {},
   "outputs": [],
   "source": [
    "# Updating columns title for malaria_deaths_df from `deaths` to `deaths_rate_per_100k`. \n",
    "# This is to provide better clarity, and avoid confusion with `deaths` in malaria_deaths_age_df\n",
    "malaria_deaths_df.columns = ['entity', 'code', 'year', 'deaths_rate_per_100k']"
   ]
  },
  {
   "cell_type": "markdown",
   "metadata": {},
   "source": [
    "## Export data to SQL database"
   ]
  },
  {
   "cell_type": "code",
   "execution_count": 20,
   "metadata": {},
   "outputs": [],
   "source": [
    "db_path = 'malaria.db'\n",
    "\n",
    "sqlite3_con = sqlite3.connect(db_path)\n",
    "malaria_deaths_df.to_sql('malaria_deaths', con=sqlite3_con, index=False, if_exists=\"replace\")\n",
    "malaria_deaths_age_df.to_sql('malaria_deaths_age', con=sqlite3_con, index=False, if_exists=\"replace\")\n",
    "malaria_inc_df.to_sql('malaria_inc', con=sqlite3_con, index=False, if_exists=\"replace\")\n",
    "sqlite3_con.commit()\n",
    "sqlite3_con.close()"
   ]
  },
  {
   "cell_type": "markdown",
   "metadata": {},
   "source": [
    "## Retrieve data from SQL database"
   ]
  },
  {
   "cell_type": "code",
   "execution_count": 21,
   "metadata": {},
   "outputs": [],
   "source": [
    "def check_sql(sql):\n",
    "    \"\"\"\n",
    "    Check if the SQL query is of type str, and it contains at least SELECT and FROM.\n",
    "    \"\"\"\n",
    "    if not isinstance(sql, str):\n",
    "        raise TypeError(f'SQL query need to be in str, but {type(sql)} was provided')\n",
    "    \n",
    "    sql = sql.lower()\n",
    "    if 'select' not in sql:\n",
    "        raise ValueError('SQL query must at least contain \"SELECT\"')\n",
    "    \n",
    "    if 'from' not in sql:\n",
    "        raise ValueError('SQL query must at least contain \"FROM\"')\n",
    "\n",
    "\n",
    "def sql_to_pandas(sql, db_path='malaria.db', sort_order=['year', 'code', 'entity']):\n",
    "    \"\"\"\n",
    "    Takes in an sql query, and return the result as a pandas.DataFrame\n",
    "    \"\"\"\n",
    "    check_sql(sql)\n",
    "    \n",
    "    sqlite3_con = sqlite3.connect(db_path)\n",
    "    \n",
    "    result_df = pd.read_sql(sql, con=sqlite3_con)\n",
    "    \n",
    "    sqlite3_con.close()\n",
    "    \n",
    "    for col in sort_order:\n",
    "        if col not in result_df.columns:\n",
    "            sort_order.remove(col)\n",
    "            \n",
    "    result_df.sort_values(by=sort_order, inplace=True)\n",
    "    \n",
    "    return result_df"
   ]
  },
  {
   "cell_type": "markdown",
   "metadata": {},
   "source": [
    "## Visualisation 1"
   ]
  },
  {
   "cell_type": "markdown",
   "metadata": {},
   "source": [
    "As the number of cases of malaria (incidence rate) increases, it will put more strain on the healthcare system, resulting in \n",
    "a corresponding raise in the death rate of malaria. However, with global effort in place to tackle malaria, such as the [WHO Global Malaria Programme](https://www.who.int/malaria/about_us/en/), the incidence and death rate of malaria would ideally be on a declining trend. \n",
    "\n",
    "Objective: To investigate if the incidence rate of malaria correlates with its deaths rate, and how does this correlation change as across different years."
   ]
  },
  {
   "cell_type": "code",
   "execution_count": 22,
   "metadata": {},
   "outputs": [
    {
     "data": {
      "text/html": [
       "<div>\n",
       "<style scoped>\n",
       "    .dataframe tbody tr th:only-of-type {\n",
       "        vertical-align: middle;\n",
       "    }\n",
       "\n",
       "    .dataframe tbody tr th {\n",
       "        vertical-align: top;\n",
       "    }\n",
       "\n",
       "    .dataframe thead th {\n",
       "        text-align: right;\n",
       "    }\n",
       "</style>\n",
       "<table border=\"1\" class=\"dataframe\">\n",
       "  <thead>\n",
       "    <tr style=\"text-align: right;\">\n",
       "      <th></th>\n",
       "      <th>entity</th>\n",
       "      <th>year</th>\n",
       "      <th>deaths_rate_per_100k</th>\n",
       "      <th>incidence</th>\n",
       "    </tr>\n",
       "  </thead>\n",
       "  <tbody>\n",
       "    <tr>\n",
       "      <th>0</th>\n",
       "      <td>Afghanistan</td>\n",
       "      <td>2000</td>\n",
       "      <td>7.939949</td>\n",
       "      <td>107.100000</td>\n",
       "    </tr>\n",
       "    <tr>\n",
       "      <th>4</th>\n",
       "      <td>Algeria</td>\n",
       "      <td>2000</td>\n",
       "      <td>0.026530</td>\n",
       "      <td>0.037746</td>\n",
       "    </tr>\n",
       "    <tr>\n",
       "      <th>8</th>\n",
       "      <td>Angola</td>\n",
       "      <td>2000</td>\n",
       "      <td>32.045192</td>\n",
       "      <td>315.600000</td>\n",
       "    </tr>\n",
       "    <tr>\n",
       "      <th>12</th>\n",
       "      <td>Argentina</td>\n",
       "      <td>2000</td>\n",
       "      <td>0.016102</td>\n",
       "      <td>2.500000</td>\n",
       "    </tr>\n",
       "    <tr>\n",
       "      <th>16</th>\n",
       "      <td>Azerbaijan</td>\n",
       "      <td>2000</td>\n",
       "      <td>0.023048</td>\n",
       "      <td>17.900000</td>\n",
       "    </tr>\n",
       "    <tr>\n",
       "      <th>...</th>\n",
       "      <td>...</td>\n",
       "      <td>...</td>\n",
       "      <td>...</td>\n",
       "      <td>...</td>\n",
       "    </tr>\n",
       "    <tr>\n",
       "      <th>379</th>\n",
       "      <td>Venezuela</td>\n",
       "      <td>2015</td>\n",
       "      <td>0.066374</td>\n",
       "      <td>68.400000</td>\n",
       "    </tr>\n",
       "    <tr>\n",
       "      <th>383</th>\n",
       "      <td>Vietnam</td>\n",
       "      <td>2015</td>\n",
       "      <td>1.248534</td>\n",
       "      <td>0.300000</td>\n",
       "    </tr>\n",
       "    <tr>\n",
       "      <th>387</th>\n",
       "      <td>Yemen</td>\n",
       "      <td>2015</td>\n",
       "      <td>0.033254</td>\n",
       "      <td>22.200000</td>\n",
       "    </tr>\n",
       "    <tr>\n",
       "      <th>391</th>\n",
       "      <td>Zambia</td>\n",
       "      <td>2015</td>\n",
       "      <td>30.273699</td>\n",
       "      <td>173.700000</td>\n",
       "    </tr>\n",
       "    <tr>\n",
       "      <th>395</th>\n",
       "      <td>Zimbabwe</td>\n",
       "      <td>2015</td>\n",
       "      <td>9.440046</td>\n",
       "      <td>114.200000</td>\n",
       "    </tr>\n",
       "  </tbody>\n",
       "</table>\n",
       "<p>396 rows × 4 columns</p>\n",
       "</div>"
      ],
      "text/plain": [
       "          entity  year  deaths_rate_per_100k   incidence\n",
       "0    Afghanistan  2000              7.939949  107.100000\n",
       "4        Algeria  2000              0.026530    0.037746\n",
       "8         Angola  2000             32.045192  315.600000\n",
       "12     Argentina  2000              0.016102    2.500000\n",
       "16    Azerbaijan  2000              0.023048   17.900000\n",
       "..           ...   ...                   ...         ...\n",
       "379    Venezuela  2015              0.066374   68.400000\n",
       "383      Vietnam  2015              1.248534    0.300000\n",
       "387        Yemen  2015              0.033254   22.200000\n",
       "391       Zambia  2015             30.273699  173.700000\n",
       "395     Zimbabwe  2015              9.440046  114.200000\n",
       "\n",
       "[396 rows x 4 columns]"
      ]
     },
     "execution_count": 22,
     "metadata": {},
     "output_type": "execute_result"
    }
   ],
   "source": [
    "result_df_1 = sql_to_pandas('SELECT malaria_deaths.entity, \\\n",
    "                             malaria_deaths.year, \\\n",
    "                             malaria_deaths.deaths_rate_per_100k, \\\n",
    "                             malaria_inc.incidence \\\n",
    "                             FROM malaria_deaths \\\n",
    "                             INNER JOIN malaria_inc \\\n",
    "                             ON malaria_deaths.entity = malaria_inc.entity \\\n",
    "                             AND malaria_deaths.year = malaria_inc.year \\\n",
    "                             WHERE \\\n",
    "                             malaria_deaths.code IS NOT NULL \\\n",
    "                             AND malaria_deaths.entity!=\"World\"')\n",
    "result_df_1"
   ]
  },
  {
   "cell_type": "code",
   "execution_count": 23,
   "metadata": {
    "scrolled": false
   },
   "outputs": [
    {
     "data": {
      "image/png": "[encoded data removed]",
      "text/plain": [
       "<Figure size 720x864 with 3 Axes>"
      ]
     },
     "metadata": {
      "needs_background": "light"
     },
     "output_type": "display_data"
    }
   ],
   "source": [
    "max_deaths_rate = result_df_1.deaths_rate_per_100k.max()\n",
    "min_deaths_rate = result_df_1.deaths_rate_per_100k.min()\n",
    "max_incidence = result_df_1.incidence.max()\n",
    "min_incidence = result_df_1.incidence.min()\n",
    "\n",
    "list_unique_year = result_df_1.year.unique()\n",
    "num_unique_year = len(list_unique_year)\n",
    "\n",
    "list_unique_entity = result_df_1.entity.unique()\n",
    "\n",
    "plt.figure(figsize=(10, num_unique_year * 3))\n",
    "\n",
    "for i, curr_year in enumerate(list_unique_year):\n",
    "    if i == 0:\n",
    "        continue\n",
    "        \n",
    "    prev_year = list_unique_year[i - 1]\n",
    "    \n",
    "    curr_year_df = result_df_1[result_df_1.year==curr_year]\n",
    "    prev_year_df = result_df_1[result_df_1.year==prev_year]\n",
    "    \n",
    "    plt.subplot(num_unique_year - 1, 1, i)\n",
    "    \n",
    "    plt.scatter(prev_year_df.deaths_rate_per_100k, prev_year_df.incidence, c='blue', alpha=0.1, label=prev_year)\n",
    "    plt.scatter(curr_year_df.deaths_rate_per_100k, curr_year_df.incidence, c='blue', label=curr_year)\n",
    "    \n",
    "    for unique_entity in list_unique_entity:\n",
    "        x = [prev_year_df[prev_year_df.entity==unique_entity].deaths_rate_per_100k, \n",
    "             curr_year_df[curr_year_df.entity==unique_entity].deaths_rate_per_100k]\n",
    "        y = [prev_year_df[prev_year_df.entity==unique_entity].incidence, \n",
    "             curr_year_df[curr_year_df.entity==unique_entity].incidence]\n",
    "        plt.plot(x, y, c='k', alpha=0.1)\n",
    "    \n",
    "    plt.ylim((min_incidence, max_incidence))\n",
    "    plt.xlim((min_deaths_rate, max_deaths_rate))\n",
    "    plt.title(f'{prev_year} to {curr_year}')\n",
    "    plt.ylabel('Incidence rate of malaria\\n(per 1,000 population at risk)')\n",
    "    plt.xlabel('Death rate of malaria\\n(per 100,000 population)')\n",
    "    plt.legend(title='Year')\n",
    "    \n",
    "plt.tight_layout()\n",
    "plt.show()"
   ]
  },
  {
   "cell_type": "markdown",
   "metadata": {},
   "source": [
    "The 3 subplots shows the how the malaria incidence rate (y-axis) and death rate (x-axis) changed from 2000 to 2015 (each subplot in 5-years interval). The points in `light blue` denotes the datapoints from the earlier reference year (e.g. 2000), and the points in `dark blue` denotes the datapoints from 5 years later (e.g. 2005). The `lines` connecting 2 points (reference year, 5 years later) denote that the pair of points are from the same country. Hence, the subplots shows how the malaria incidence rate and death rate of a country changes within a 5-years timeframe. <br>\n",
    "\n",
    "As expected, there is a positive correlation between the incidence rate and death rate of malaria. As the incidence rate of malaria increases, the death rate of malaria also increases. It was also worth noting that for most countries, the incidences rate and death rate of malaria drop across the years, which might indicates that efforts in tackling malaria are effective. "
   ]
  },
  {
   "cell_type": "markdown",
   "metadata": {},
   "source": [
    "## Visualisation 2"
   ]
  },
  {
   "cell_type": "markdown",
   "metadata": {},
   "source": [
    "According to the WHO [fact sheet on malaria](https://www.who.int/news-room/fact-sheets/detail/malaria#:~:text=Children%20under%205%20years%20of%20age%20are%20the%20most%20vulnerable,of%20all%20malaria%20deaths%20worldwide.), children under 5 years of age were known to be the most vulnerable group affected by malaria. The immune system of children under the age of 5 were still developing, which might explain why children are more vulnerable to malaria. As they grow older, previous exposure to malaria trained their adaptive immune system to defend against subsequent exposure to malaria, thus improving their prognosis. <br>\n",
    "\n",
    "Objective: To investigate how the mortality of malaria changes in age group."
   ]
  },
  {
   "cell_type": "code",
   "execution_count": 24,
   "metadata": {},
   "outputs": [
    {
     "data": {
      "text/html": [
       "<div>\n",
       "<style scoped>\n",
       "    .dataframe tbody tr th:only-of-type {\n",
       "        vertical-align: middle;\n",
       "    }\n",
       "\n",
       "    .dataframe tbody tr th {\n",
       "        vertical-align: top;\n",
       "    }\n",
       "\n",
       "    .dataframe thead th {\n",
       "        text-align: right;\n",
       "    }\n",
       "</style>\n",
       "<table border=\"1\" class=\"dataframe\">\n",
       "  <thead>\n",
       "    <tr style=\"text-align: right;\">\n",
       "      <th></th>\n",
       "      <th>entity</th>\n",
       "      <th>age_group</th>\n",
       "      <th>deaths</th>\n",
       "    </tr>\n",
       "  </thead>\n",
       "  <tbody>\n",
       "    <tr>\n",
       "      <th>0</th>\n",
       "      <td>Afghanistan</td>\n",
       "      <td>Under 5</td>\n",
       "      <td>184.606435</td>\n",
       "    </tr>\n",
       "    <tr>\n",
       "      <th>21085</th>\n",
       "      <td>Afghanistan</td>\n",
       "      <td>50-69</td>\n",
       "      <td>185.333974</td>\n",
       "    </tr>\n",
       "    <tr>\n",
       "      <th>21086</th>\n",
       "      <td>Afghanistan</td>\n",
       "      <td>50-69</td>\n",
       "      <td>188.921260</td>\n",
       "    </tr>\n",
       "    <tr>\n",
       "      <th>10556</th>\n",
       "      <td>Afghanistan</td>\n",
       "      <td>5-14</td>\n",
       "      <td>186.455122</td>\n",
       "    </tr>\n",
       "    <tr>\n",
       "      <th>10555</th>\n",
       "      <td>Afghanistan</td>\n",
       "      <td>5-14</td>\n",
       "      <td>182.793081</td>\n",
       "    </tr>\n",
       "    <tr>\n",
       "      <th>...</th>\n",
       "      <td>...</td>\n",
       "      <td>...</td>\n",
       "      <td>...</td>\n",
       "    </tr>\n",
       "    <tr>\n",
       "      <th>10524</th>\n",
       "      <td>Zimbabwe</td>\n",
       "      <td>70 or older</td>\n",
       "      <td>73.539031</td>\n",
       "    </tr>\n",
       "    <tr>\n",
       "      <th>10525</th>\n",
       "      <td>Zimbabwe</td>\n",
       "      <td>70 or older</td>\n",
       "      <td>71.427930</td>\n",
       "    </tr>\n",
       "    <tr>\n",
       "      <th>10526</th>\n",
       "      <td>Zimbabwe</td>\n",
       "      <td>70 or older</td>\n",
       "      <td>70.006725</td>\n",
       "    </tr>\n",
       "    <tr>\n",
       "      <th>10515</th>\n",
       "      <td>Zimbabwe</td>\n",
       "      <td>70 or older</td>\n",
       "      <td>65.466083</td>\n",
       "    </tr>\n",
       "    <tr>\n",
       "      <th>26324</th>\n",
       "      <td>Zimbabwe</td>\n",
       "      <td>50-69</td>\n",
       "      <td>97.402058</td>\n",
       "    </tr>\n",
       "  </tbody>\n",
       "</table>\n",
       "<p>26325 rows × 3 columns</p>\n",
       "</div>"
      ],
      "text/plain": [
       "            entity    age_group      deaths\n",
       "0      Afghanistan      Under 5  184.606435\n",
       "21085  Afghanistan        50-69  185.333974\n",
       "21086  Afghanistan        50-69  188.921260\n",
       "10556  Afghanistan         5-14  186.455122\n",
       "10555  Afghanistan         5-14  182.793081\n",
       "...            ...          ...         ...\n",
       "10524     Zimbabwe  70 or older   73.539031\n",
       "10525     Zimbabwe  70 or older   71.427930\n",
       "10526     Zimbabwe  70 or older   70.006725\n",
       "10515     Zimbabwe  70 or older   65.466083\n",
       "26324     Zimbabwe        50-69   97.402058\n",
       "\n",
       "[26325 rows x 3 columns]"
      ]
     },
     "execution_count": 24,
     "metadata": {},
     "output_type": "execute_result"
    }
   ],
   "source": [
    "result_df_2 = sql_to_pandas('SELECT entity, age_group, deaths \\\n",
    "                             FROM malaria_deaths_age \\\n",
    "                             WHERE \\\n",
    "                             code IS NOT NULL \\\n",
    "                             AND entity!=\"World\"')\n",
    "result_df_2"
   ]
  },
  {
   "cell_type": "code",
   "execution_count": 25,
   "metadata": {},
   "outputs": [],
   "source": [
    "result_df_2['highlight_entity'] = result_df_2['entity'].apply(lambda x: x if (x=='Nigeria')\n",
    "                                                                          or (x=='Democratic Republic of Congo')\n",
    "                                                                          else 'Other countries')"
   ]
  },
  {
   "cell_type": "code",
   "execution_count": 26,
   "metadata": {},
   "outputs": [
    {
     "data": {
      "image/png": "[encoded data removed]",
      "text/plain": [
       "<Figure size 720x720 with 1 Axes>"
      ]
     },
     "metadata": {
      "needs_background": "light"
     },
     "output_type": "display_data"
    }
   ],
   "source": [
    "age_grp_order =['Under 5', '5-14', '15-49', '50-69', '70 or older']\n",
    "\n",
    "plt.figure(figsize=(10, 10))\n",
    "sns.stripplot(x='age_group', y='deaths', hue='highlight_entity', data=result_df_2, order=age_grp_order, alpha=0.5)\n",
    "plt.ylabel('Deaths')\n",
    "plt.xlabel('Age Group')\n",
    "plt.legend(title='Countries')\n",
    "plt.tight_layout()\n",
    "plt.show()"
   ]
  },
  {
   "cell_type": "markdown",
   "metadata": {},
   "source": [
    "This graph show the `deaths` (presumably the malaria death rate) in different age groups. Aligned with current knowledge, children under the age of 5 had the highest death rate. The death rate decreases as age increases, presumably due to improved immune response against malaria. It was also worth noting that `Nigeria` (label in green) was the most badly affected country, and `Democratic Republic of Congo` (label in orange) was the second most badly affected country. Both countries have the highest death rate for children under the age of 5. For the other age groups, the death rates for `Nigeria` and `Democratic Republic of Congo` were also consistently higher than the other countries. <br>\n",
    "\n",
    "**Caveat:** `Deaths` was not properly defined in the raw data, it was assumed to be the death rate. The raw data have been group by the different age group, but it was not known if the `deaths` was normalised to the population for the respective age group. It was surprising the `70 or older` have a lower `deaths` than the age group `15-49`. The immune system of an individual above 70 should start to deteriorate, and the `deaths` (if it is death rate and it was normalized to the population of the respective age group) would be higher than age group `15-49`. Hence, it might be possible that the low `deaths` in `70 or older` could be due to a smaller population of people in this age group. "
   ]
  },
  {
   "cell_type": "markdown",
   "metadata": {},
   "source": [
    "## Visualisation 3"
   ]
  },
  {
   "cell_type": "markdown",
   "metadata": {},
   "source": [
    "Developed countries with stronger economy generally will be able to afford a better healthcare system. Therefore malaria patients from these developed countries should be able to receive better care, and have a better prognosis. The Human Development Index (HDI) is a summary measure of average achievement in various important dimensions of human development, thus it could be a good approximate of how developed the country is. The HDI (year 2018) of most countries found in the dataset could be found from the [Human Development Reports of the United Nations Development Programme](http://hdr.undp.org/en/composite/HDI). The data was extracted and preprocessed into csv format, which was upload into this [GitHub repo](https://github.com/simonchuth/sgh_assessment/blob/master/country_hdi.csv). <br>\n",
    "\n",
    "Objective: Investigate if patient from more developed countries (higher HDI) have a better prognosis when infected with malaria."
   ]
  },
  {
   "cell_type": "code",
   "execution_count": 27,
   "metadata": {},
   "outputs": [
    {
     "data": {
      "text/html": [
       "<div>\n",
       "<style scoped>\n",
       "    .dataframe tbody tr th:only-of-type {\n",
       "        vertical-align: middle;\n",
       "    }\n",
       "\n",
       "    .dataframe tbody tr th {\n",
       "        vertical-align: top;\n",
       "    }\n",
       "\n",
       "    .dataframe thead th {\n",
       "        text-align: right;\n",
       "    }\n",
       "</style>\n",
       "<table border=\"1\" class=\"dataframe\">\n",
       "  <thead>\n",
       "    <tr style=\"text-align: right;\">\n",
       "      <th></th>\n",
       "      <th>entity</th>\n",
       "      <th>deaths_rate_per_100k</th>\n",
       "      <th>incidence</th>\n",
       "    </tr>\n",
       "  </thead>\n",
       "  <tbody>\n",
       "    <tr>\n",
       "      <th>0</th>\n",
       "      <td>Afghanistan</td>\n",
       "      <td>7.738631</td>\n",
       "      <td>50.275000</td>\n",
       "    </tr>\n",
       "    <tr>\n",
       "      <th>1</th>\n",
       "      <td>Algeria</td>\n",
       "      <td>0.024008</td>\n",
       "      <td>0.010736</td>\n",
       "    </tr>\n",
       "    <tr>\n",
       "      <th>2</th>\n",
       "      <td>Angola</td>\n",
       "      <td>36.605595</td>\n",
       "      <td>213.325000</td>\n",
       "    </tr>\n",
       "    <tr>\n",
       "      <th>3</th>\n",
       "      <td>Argentina</td>\n",
       "      <td>0.010256</td>\n",
       "      <td>1.150000</td>\n",
       "    </tr>\n",
       "    <tr>\n",
       "      <th>4</th>\n",
       "      <td>Azerbaijan</td>\n",
       "      <td>0.014474</td>\n",
       "      <td>5.275000</td>\n",
       "    </tr>\n",
       "    <tr>\n",
       "      <th>...</th>\n",
       "      <td>...</td>\n",
       "      <td>...</td>\n",
       "      <td>...</td>\n",
       "    </tr>\n",
       "    <tr>\n",
       "      <th>94</th>\n",
       "      <td>Venezuela</td>\n",
       "      <td>0.081828</td>\n",
       "      <td>37.625000</td>\n",
       "    </tr>\n",
       "    <tr>\n",
       "      <th>95</th>\n",
       "      <td>Vietnam</td>\n",
       "      <td>1.380582</td>\n",
       "      <td>2.125000</td>\n",
       "    </tr>\n",
       "    <tr>\n",
       "      <th>96</th>\n",
       "      <td>Yemen</td>\n",
       "      <td>0.038222</td>\n",
       "      <td>50.225000</td>\n",
       "    </tr>\n",
       "    <tr>\n",
       "      <th>97</th>\n",
       "      <td>Zambia</td>\n",
       "      <td>42.833839</td>\n",
       "      <td>238.800000</td>\n",
       "    </tr>\n",
       "    <tr>\n",
       "      <th>98</th>\n",
       "      <td>Zimbabwe</td>\n",
       "      <td>9.308303</td>\n",
       "      <td>132.375000</td>\n",
       "    </tr>\n",
       "  </tbody>\n",
       "</table>\n",
       "<p>99 rows × 3 columns</p>\n",
       "</div>"
      ],
      "text/plain": [
       "         entity  deaths_rate_per_100k   incidence\n",
       "0   Afghanistan              7.738631   50.275000\n",
       "1       Algeria              0.024008    0.010736\n",
       "2        Angola             36.605595  213.325000\n",
       "3     Argentina              0.010256    1.150000\n",
       "4    Azerbaijan              0.014474    5.275000\n",
       "..          ...                   ...         ...\n",
       "94    Venezuela              0.081828   37.625000\n",
       "95      Vietnam              1.380582    2.125000\n",
       "96        Yemen              0.038222   50.225000\n",
       "97       Zambia             42.833839  238.800000\n",
       "98     Zimbabwe              9.308303  132.375000\n",
       "\n",
       "[99 rows x 3 columns]"
      ]
     },
     "execution_count": 27,
     "metadata": {},
     "output_type": "execute_result"
    }
   ],
   "source": [
    "result_df_3 = sql_to_pandas('SELECT \\\n",
    "                             malaria_deaths.entity, \\\n",
    "                             AVG(malaria_deaths.deaths_rate_per_100k) as deaths_rate_per_100k, \\\n",
    "                             AVG(malaria_inc.incidence) as incidence \\\n",
    "                             FROM malaria_deaths \\\n",
    "                             INNER JOIN malaria_inc \\\n",
    "                             ON malaria_deaths.entity = malaria_inc.entity \\\n",
    "                             AND malaria_deaths.year = malaria_inc.year \\\n",
    "                             WHERE \\\n",
    "                             malaria_deaths.code IS NOT NULL \\\n",
    "                             AND malaria_deaths.entity!=\"World\" \\\n",
    "                             GROUP BY malaria_deaths.entity')\n",
    "result_df_3"
   ]
  },
  {
   "cell_type": "code",
   "execution_count": 28,
   "metadata": {},
   "outputs": [],
   "source": [
    "hdi_path = 'https://raw.githubusercontent.com/simonchuth/sgh_assessment/master/country_hdi.csv'\n",
    "hdi_df = pd.read_csv(hdi_path)"
   ]
  },
  {
   "cell_type": "code",
   "execution_count": 29,
   "metadata": {},
   "outputs": [],
   "source": [
    "combined_df = result_df_3.merge(hdi_df, left_on='entity', right_on='country')\n",
    "combined_df.drop(columns='country', inplace=True)\n",
    "combined_df['death_incidence'] = combined_df.deaths_rate_per_100k / combined_df.incidence \n",
    "\n",
    "# ALgeria is an outlier, with a death_incidence of 2.36 and high HDI\n",
    "combined_df = combined_df[combined_df.death_incidence < 1.5]  "
   ]
  },
  {
   "cell_type": "code",
   "execution_count": 30,
   "metadata": {},
   "outputs": [
    {
     "data": {
      "image/png": "[encoded data removed]",
      "text/plain": [
       "<Figure size 360x360 with 2 Axes>"
      ]
     },
     "metadata": {
      "needs_background": "light"
     },
     "output_type": "display_data"
    }
   ],
   "source": [
    "z = np.polyfit(combined_df.hdi, combined_df.death_incidence, 1)\n",
    "p = np.poly1d(z)\n",
    "\n",
    "plt.figure(figsize=(5, 5))\n",
    "\n",
    "plt.scatter(combined_df.hdi, combined_df.death_incidence, c=combined_df.incidence, cmap='cool')\n",
    "plt.plot(combined_df.hdi, p(combined_df.hdi),'r')\n",
    "cbar = plt.colorbar()\n",
    "\n",
    "plt.xlabel('Human Development Index')\n",
    "plt.ylabel('Normalized Death Rate\\n(Death Rate/Incidence Rate)')\n",
    "cbar.ax.set_title('Incidence\\nRate')\n",
    "plt.tight_layout()\n",
    "plt.show()"
   ]
  },
  {
   "cell_type": "markdown",
   "metadata": {},
   "source": [
    "To approximate the prognosis of malaria patient, I have engineered a new feature (Normalized Death Rate) as the `y-axis`, which is the death rate divided by the incidence rate. The intution of this feature is that a high Normalized Death Rate would mean that patient infected with malaria will be more likely to die (worst prognosis), while a lower Normalized Death Rate would mean that patient infected with malaria will more likely to survive (better prognosis). <br>\n",
    "\n",
    "The `x-axis` of the graph is the Human Development Index (measure of how developed the country is). The colour of the points corresponds to the malaria incidence rate. <br>\n",
    "\n",
    "This figure is conveying several messages. \n",
    "* First, the graph shows that the normalized death rate decreases with higher HDI, suggesting that the prognosis of patient will be better in more developed countries. The red trendline shows a negative correlation between the normalised death rate and the HDI of the country. \n",
    "* Second, there are countries with low HDI, yet they have a very low normalized death rate. These countries generally have a low malaria incidence rate, thus their countries healthcare system were still able to provide adequate care to have a good prognosis.  \n",
    "* Third, it was also worth noting that generally countires with lower HDI also have a higher incidence rate of malaria. This suggests that devloping countries might not have sufficient budget to put in place a adequate programme for the eradication of malaria, thus malaria is still prevalent in these countries."
   ]
  }
 ],
 "metadata": {
  "kernelspec": {
   "display_name": "Python 3",
   "language": "python",
   "name": "python3"
  },
  "language_info": {
   "codemirror_mode": {
    "name": "ipython",
    "version": 3
   },
   "file_extension": ".py",
   "mimetype": "text/x-python",
   "name": "python",
   "nbconvert_exporter": "python",
   "pygments_lexer": "ipython3",
   "version": "3.7.9"
  }
 },
 "nbformat": 4,
 "nbformat_minor": 4
}
