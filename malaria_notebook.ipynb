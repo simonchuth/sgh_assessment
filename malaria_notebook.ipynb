{
 "cells": [
  {
   "cell_type": "code",
   "execution_count": 120,
   "metadata": {},
   "outputs": [],
   "source": [
    "import sqlite3\n",
    "\n",
    "import numpy as np\n",
    "import pandas as pd\n",
    "\n",
    "import seaborn as sns\n",
    "import matplotlib.pyplot as plt"
   ]
  },
  {
   "cell_type": "markdown",
   "metadata": {},
   "source": [
    "# Import data into pandas dataframe"
   ]
  },
  {
   "cell_type": "code",
   "execution_count": 40,
   "metadata": {},
   "outputs": [],
   "source": [
    "malaria_deaths_path = 'https://raw.githubusercontent.com/rfordatascience/tidytuesday/master/data/2018/2018-11-13/malaria_deaths.csv'\n",
    "malaria_deaths_age_path = 'https://raw.githubusercontent.com/rfordatascience/tidytuesday/master/data/2018/2018-11-13/malaria_deaths_age.csv'\n",
    "malaria_inc_path = 'https://raw.githubusercontent.com/rfordatascience/tidytuesday/master/data/2018/2018-11-13/malaria_inc.csv'"
   ]
  },
  {
   "cell_type": "code",
   "execution_count": 41,
   "metadata": {},
   "outputs": [
    {
     "name": "stdout",
     "output_type": "stream",
     "text": [
      "Original Column Headings\n",
      "malaria_deaths_df columns: ['Entity', 'Code', 'Year', 'Deaths - Malaria - Sex: Both - Age: Age-standardized (Rate) (per 100,000 people)']\n",
      "malaria_deaths_age_df columns: ['entity', 'code', 'year', 'age_group', 'deaths']\n",
      "malaria_inc_df columns: ['Entity', 'Code', 'Year', 'Incidence of malaria (per 1,000 population at risk) (per 1,000 population at risk)']\n",
      "\n",
      "New Column Headings\n",
      "malaria_deaths_df columns: ['entity', 'code', 'year', 'deaths']\n",
      "malaria_deaths_age_df columns: ['entity', 'code', 'year', 'age_group', 'deaths']\n",
      "malaria_inc_df columns: ['entity', 'code', 'year', 'incidence']\n"
     ]
    }
   ],
   "source": [
    "malaria_deaths_df = pd.read_csv(malaria_deaths_path)\n",
    "malaria_deaths_age_df = pd.read_csv(malaria_deaths_age_path, index_col=0)\n",
    "malaria_inc_df = pd.read_csv(malaria_inc_path)\n",
    "\n",
    "print('Original Column Headings')\n",
    "print(f'malaria_deaths_df columns: {list(malaria_deaths_df.columns)}')\n",
    "print(f'malaria_deaths_age_df columns: {list(malaria_deaths_age_df.columns)}')\n",
    "print(f'malaria_inc_df columns: {list(malaria_inc_df.columns)}')\n",
    "\n",
    "malaria_deaths_df.columns = ['entity', 'code', 'year', 'deaths']\n",
    "malaria_inc_df.columns = ['entity', 'code', 'year', 'incidence']\n",
    "\n",
    "print('\\nNew Column Headings')\n",
    "print(f'malaria_deaths_df columns: {list(malaria_deaths_df.columns)}')\n",
    "print(f'malaria_deaths_age_df columns: {list(malaria_deaths_age_df.columns)}')\n",
    "print(f'malaria_inc_df columns: {list(malaria_inc_df.columns)}')\n"
   ]
  },
  {
   "cell_type": "markdown",
   "metadata": {},
   "source": [
    "# Basic Inspection of the dataset"
   ]
  },
  {
   "cell_type": "markdown",
   "metadata": {},
   "source": [
    "## Inspect head of dataframe"
   ]
  },
  {
   "cell_type": "code",
   "execution_count": 42,
   "metadata": {},
   "outputs": [
    {
     "name": "stdout",
     "output_type": "stream",
     "text": [
      "malaria_deaths_df\n"
     ]
    },
    {
     "data": {
      "text/html": [
       "<div>\n",
       "<style scoped>\n",
       "    .dataframe tbody tr th:only-of-type {\n",
       "        vertical-align: middle;\n",
       "    }\n",
       "\n",
       "    .dataframe tbody tr th {\n",
       "        vertical-align: top;\n",
       "    }\n",
       "\n",
       "    .dataframe thead th {\n",
       "        text-align: right;\n",
       "    }\n",
       "</style>\n",
       "<table border=\"1\" class=\"dataframe\">\n",
       "  <thead>\n",
       "    <tr style=\"text-align: right;\">\n",
       "      <th></th>\n",
       "      <th>entity</th>\n",
       "      <th>code</th>\n",
       "      <th>year</th>\n",
       "      <th>deaths</th>\n",
       "    </tr>\n",
       "  </thead>\n",
       "  <tbody>\n",
       "    <tr>\n",
       "      <th>0</th>\n",
       "      <td>Afghanistan</td>\n",
       "      <td>AFG</td>\n",
       "      <td>1990</td>\n",
       "      <td>6.802930</td>\n",
       "    </tr>\n",
       "    <tr>\n",
       "      <th>1</th>\n",
       "      <td>Afghanistan</td>\n",
       "      <td>AFG</td>\n",
       "      <td>1991</td>\n",
       "      <td>6.973494</td>\n",
       "    </tr>\n",
       "    <tr>\n",
       "      <th>2</th>\n",
       "      <td>Afghanistan</td>\n",
       "      <td>AFG</td>\n",
       "      <td>1992</td>\n",
       "      <td>6.989882</td>\n",
       "    </tr>\n",
       "    <tr>\n",
       "      <th>3</th>\n",
       "      <td>Afghanistan</td>\n",
       "      <td>AFG</td>\n",
       "      <td>1993</td>\n",
       "      <td>7.088983</td>\n",
       "    </tr>\n",
       "    <tr>\n",
       "      <th>4</th>\n",
       "      <td>Afghanistan</td>\n",
       "      <td>AFG</td>\n",
       "      <td>1994</td>\n",
       "      <td>7.392472</td>\n",
       "    </tr>\n",
       "  </tbody>\n",
       "</table>\n",
       "</div>"
      ],
      "text/plain": [
       "        entity code  year    deaths\n",
       "0  Afghanistan  AFG  1990  6.802930\n",
       "1  Afghanistan  AFG  1991  6.973494\n",
       "2  Afghanistan  AFG  1992  6.989882\n",
       "3  Afghanistan  AFG  1993  7.088983\n",
       "4  Afghanistan  AFG  1994  7.392472"
      ]
     },
     "execution_count": 42,
     "metadata": {},
     "output_type": "execute_result"
    }
   ],
   "source": [
    "print('malaria_deaths_df')\n",
    "malaria_deaths_df.head()"
   ]
  },
  {
   "cell_type": "code",
   "execution_count": 43,
   "metadata": {},
   "outputs": [
    {
     "name": "stdout",
     "output_type": "stream",
     "text": [
      "malaria_deaths_age_df\n"
     ]
    },
    {
     "data": {
      "text/html": [
       "<div>\n",
       "<style scoped>\n",
       "    .dataframe tbody tr th:only-of-type {\n",
       "        vertical-align: middle;\n",
       "    }\n",
       "\n",
       "    .dataframe tbody tr th {\n",
       "        vertical-align: top;\n",
       "    }\n",
       "\n",
       "    .dataframe thead th {\n",
       "        text-align: right;\n",
       "    }\n",
       "</style>\n",
       "<table border=\"1\" class=\"dataframe\">\n",
       "  <thead>\n",
       "    <tr style=\"text-align: right;\">\n",
       "      <th></th>\n",
       "      <th>entity</th>\n",
       "      <th>code</th>\n",
       "      <th>year</th>\n",
       "      <th>age_group</th>\n",
       "      <th>deaths</th>\n",
       "    </tr>\n",
       "  </thead>\n",
       "  <tbody>\n",
       "    <tr>\n",
       "      <th>1</th>\n",
       "      <td>Afghanistan</td>\n",
       "      <td>AFG</td>\n",
       "      <td>1990</td>\n",
       "      <td>Under 5</td>\n",
       "      <td>184.606435</td>\n",
       "    </tr>\n",
       "    <tr>\n",
       "      <th>2</th>\n",
       "      <td>Afghanistan</td>\n",
       "      <td>AFG</td>\n",
       "      <td>1991</td>\n",
       "      <td>Under 5</td>\n",
       "      <td>191.658193</td>\n",
       "    </tr>\n",
       "    <tr>\n",
       "      <th>3</th>\n",
       "      <td>Afghanistan</td>\n",
       "      <td>AFG</td>\n",
       "      <td>1992</td>\n",
       "      <td>Under 5</td>\n",
       "      <td>197.140197</td>\n",
       "    </tr>\n",
       "    <tr>\n",
       "      <th>4</th>\n",
       "      <td>Afghanistan</td>\n",
       "      <td>AFG</td>\n",
       "      <td>1993</td>\n",
       "      <td>Under 5</td>\n",
       "      <td>207.357753</td>\n",
       "    </tr>\n",
       "    <tr>\n",
       "      <th>5</th>\n",
       "      <td>Afghanistan</td>\n",
       "      <td>AFG</td>\n",
       "      <td>1994</td>\n",
       "      <td>Under 5</td>\n",
       "      <td>226.209363</td>\n",
       "    </tr>\n",
       "  </tbody>\n",
       "</table>\n",
       "</div>"
      ],
      "text/plain": [
       "        entity code  year age_group      deaths\n",
       "1  Afghanistan  AFG  1990   Under 5  184.606435\n",
       "2  Afghanistan  AFG  1991   Under 5  191.658193\n",
       "3  Afghanistan  AFG  1992   Under 5  197.140197\n",
       "4  Afghanistan  AFG  1993   Under 5  207.357753\n",
       "5  Afghanistan  AFG  1994   Under 5  226.209363"
      ]
     },
     "execution_count": 43,
     "metadata": {},
     "output_type": "execute_result"
    }
   ],
   "source": [
    "print('malaria_deaths_age_df')\n",
    "malaria_deaths_age_df.head()"
   ]
  },
  {
   "cell_type": "code",
   "execution_count": 44,
   "metadata": {},
   "outputs": [
    {
     "name": "stdout",
     "output_type": "stream",
     "text": [
      "malaria_inc_df\n"
     ]
    },
    {
     "data": {
      "text/html": [
       "<div>\n",
       "<style scoped>\n",
       "    .dataframe tbody tr th:only-of-type {\n",
       "        vertical-align: middle;\n",
       "    }\n",
       "\n",
       "    .dataframe tbody tr th {\n",
       "        vertical-align: top;\n",
       "    }\n",
       "\n",
       "    .dataframe thead th {\n",
       "        text-align: right;\n",
       "    }\n",
       "</style>\n",
       "<table border=\"1\" class=\"dataframe\">\n",
       "  <thead>\n",
       "    <tr style=\"text-align: right;\">\n",
       "      <th></th>\n",
       "      <th>entity</th>\n",
       "      <th>code</th>\n",
       "      <th>year</th>\n",
       "      <th>incidence</th>\n",
       "    </tr>\n",
       "  </thead>\n",
       "  <tbody>\n",
       "    <tr>\n",
       "      <th>0</th>\n",
       "      <td>Afghanistan</td>\n",
       "      <td>AFG</td>\n",
       "      <td>2000</td>\n",
       "      <td>107.100000</td>\n",
       "    </tr>\n",
       "    <tr>\n",
       "      <th>1</th>\n",
       "      <td>Afghanistan</td>\n",
       "      <td>AFG</td>\n",
       "      <td>2005</td>\n",
       "      <td>46.500000</td>\n",
       "    </tr>\n",
       "    <tr>\n",
       "      <th>2</th>\n",
       "      <td>Afghanistan</td>\n",
       "      <td>AFG</td>\n",
       "      <td>2010</td>\n",
       "      <td>23.900000</td>\n",
       "    </tr>\n",
       "    <tr>\n",
       "      <th>3</th>\n",
       "      <td>Afghanistan</td>\n",
       "      <td>AFG</td>\n",
       "      <td>2015</td>\n",
       "      <td>23.600000</td>\n",
       "    </tr>\n",
       "    <tr>\n",
       "      <th>4</th>\n",
       "      <td>Algeria</td>\n",
       "      <td>DZA</td>\n",
       "      <td>2000</td>\n",
       "      <td>0.037746</td>\n",
       "    </tr>\n",
       "  </tbody>\n",
       "</table>\n",
       "</div>"
      ],
      "text/plain": [
       "        entity code  year   incidence\n",
       "0  Afghanistan  AFG  2000  107.100000\n",
       "1  Afghanistan  AFG  2005   46.500000\n",
       "2  Afghanistan  AFG  2010   23.900000\n",
       "3  Afghanistan  AFG  2015   23.600000\n",
       "4      Algeria  DZA  2000    0.037746"
      ]
     },
     "execution_count": 44,
     "metadata": {},
     "output_type": "execute_result"
    }
   ],
   "source": [
    "print('malaria_inc_df')\n",
    "malaria_inc_df.head()"
   ]
  },
  {
   "cell_type": "markdown",
   "metadata": {},
   "source": [
    "## Identify missing data in the dataset"
   ]
  },
  {
   "cell_type": "code",
   "execution_count": 45,
   "metadata": {},
   "outputs": [
    {
     "name": "stdout",
     "output_type": "stream",
     "text": [
      "<class 'pandas.core.frame.DataFrame'>\n",
      "RangeIndex: 6156 entries, 0 to 6155\n",
      "Data columns (total 4 columns):\n",
      " #   Column  Non-Null Count  Dtype  \n",
      "---  ------  --------------  -----  \n",
      " 0   entity  6156 non-null   object \n",
      " 1   code    5292 non-null   object \n",
      " 2   year    6156 non-null   int64  \n",
      " 3   deaths  6156 non-null   float64\n",
      "dtypes: float64(1), int64(1), object(2)\n",
      "memory usage: 192.5+ KB\n"
     ]
    }
   ],
   "source": [
    "malaria_deaths_df.info()"
   ]
  },
  {
   "cell_type": "code",
   "execution_count": 46,
   "metadata": {},
   "outputs": [
    {
     "name": "stdout",
     "output_type": "stream",
     "text": [
      "<class 'pandas.core.frame.DataFrame'>\n",
      "Int64Index: 30780 entries, 1 to 30780\n",
      "Data columns (total 5 columns):\n",
      " #   Column     Non-Null Count  Dtype  \n",
      "---  ------     --------------  -----  \n",
      " 0   entity     30780 non-null  object \n",
      " 1   code       26460 non-null  object \n",
      " 2   year       30780 non-null  int64  \n",
      " 3   age_group  30780 non-null  object \n",
      " 4   deaths     30780 non-null  float64\n",
      "dtypes: float64(1), int64(1), object(3)\n",
      "memory usage: 1.4+ MB\n"
     ]
    }
   ],
   "source": [
    "malaria_deaths_age_df.info()"
   ]
  },
  {
   "cell_type": "code",
   "execution_count": 47,
   "metadata": {},
   "outputs": [
    {
     "name": "stdout",
     "output_type": "stream",
     "text": [
      "<class 'pandas.core.frame.DataFrame'>\n",
      "RangeIndex: 508 entries, 0 to 507\n",
      "Data columns (total 4 columns):\n",
      " #   Column     Non-Null Count  Dtype  \n",
      "---  ------     --------------  -----  \n",
      " 0   entity     508 non-null    object \n",
      " 1   code       400 non-null    object \n",
      " 2   year       508 non-null    int64  \n",
      " 3   incidence  508 non-null    float64\n",
      "dtypes: float64(1), int64(1), object(2)\n",
      "memory usage: 16.0+ KB\n"
     ]
    }
   ],
   "source": [
    "malaria_inc_df.info()"
   ]
  },
  {
   "cell_type": "markdown",
   "metadata": {},
   "source": [
    "While there were no missing data for most columns, there are missing data for the `code` column for all 3 dataframe."
   ]
  },
  {
   "cell_type": "markdown",
   "metadata": {},
   "source": [
    "### Inspect entities that have missing code"
   ]
  },
  {
   "cell_type": "code",
   "execution_count": 48,
   "metadata": {},
   "outputs": [],
   "source": [
    "def print_entity_with_missing_code(df):\n",
    "    \"\"\"\n",
    "    Print the list of entity that have missing code in the dataframe\n",
    "    \"\"\"\n",
    "    unique_entity = df[['entity', 'code']].drop_duplicates()\n",
    "    unique_entity_missing_code = unique_entity[unique_entity.code.isnull()]\n",
    "    print(unique_entity_missing_code)"
   ]
  },
  {
   "cell_type": "code",
   "execution_count": 49,
   "metadata": {},
   "outputs": [
    {
     "name": "stdout",
     "output_type": "stream",
     "text": [
      "Entity with missing code for malaria_deaths_df\n",
      "                            entity code\n",
      "108           Andean Latin America  NaN\n",
      "270                    Australasia  NaN\n",
      "972                      Caribbean  NaN\n",
      "1026                  Central Asia  NaN\n",
      "1053                Central Europe  NaN\n",
      "1080         Central Latin America  NaN\n",
      "1107    Central Sub-Saharan Africa  NaN\n",
      "1593                     East Asia  NaN\n",
      "1620                Eastern Europe  NaN\n",
      "1647    Eastern Sub-Saharan Africa  NaN\n",
      "1755                       England  NaN\n",
      "2349                      High SDI  NaN\n",
      "2376      High-income Asia Pacific  NaN\n",
      "2403               High-middle SDI  NaN\n",
      "2943   Latin America and Caribbean  NaN\n",
      "3132                       Low SDI  NaN\n",
      "3159                Low-middle SDI  NaN\n",
      "3537                    Middle SDI  NaN\n",
      "3915  North Africa and Middle East  NaN\n",
      "3942                 North America  NaN\n",
      "3996              Northern Ireland  NaN\n",
      "4077                       Oceania  NaN\n",
      "4644                      Scotland  NaN\n",
      "4941                    South Asia  NaN\n",
      "5022                Southeast Asia  NaN\n",
      "5049        Southern Latin America  NaN\n",
      "5076   Southern Sub-Saharan Africa  NaN\n",
      "5157            Sub-Saharan Africa  NaN\n",
      "5562        Tropical Latin America  NaN\n",
      "5967                         Wales  NaN\n",
      "5994                Western Europe  NaN\n",
      "6021    Western Sub-Saharan Africa  NaN\n",
      "\n",
      "Entity with missing code for malaria_deaths_age_df\n",
      "                            entity code\n",
      "109           Andean Latin America  NaN\n",
      "271                    Australasia  NaN\n",
      "973                      Caribbean  NaN\n",
      "1027                  Central Asia  NaN\n",
      "1054                Central Europe  NaN\n",
      "1081         Central Latin America  NaN\n",
      "1108    Central Sub-Saharan Africa  NaN\n",
      "1594                     East Asia  NaN\n",
      "1621                Eastern Europe  NaN\n",
      "1648    Eastern Sub-Saharan Africa  NaN\n",
      "1756                       England  NaN\n",
      "2350                      High SDI  NaN\n",
      "2377      High-income Asia Pacific  NaN\n",
      "2404               High-middle SDI  NaN\n",
      "2944   Latin America and Caribbean  NaN\n",
      "3133                       Low SDI  NaN\n",
      "3160                Low-middle SDI  NaN\n",
      "3538                    Middle SDI  NaN\n",
      "3916  North Africa and Middle East  NaN\n",
      "3943                 North America  NaN\n",
      "3997              Northern Ireland  NaN\n",
      "4078                       Oceania  NaN\n",
      "4645                      Scotland  NaN\n",
      "4942                    South Asia  NaN\n",
      "5023                Southeast Asia  NaN\n",
      "5050        Southern Latin America  NaN\n",
      "5077   Southern Sub-Saharan Africa  NaN\n",
      "5158            Sub-Saharan Africa  NaN\n",
      "5563        Tropical Latin America  NaN\n",
      "5968                         Wales  NaN\n",
      "5995                Western Europe  NaN\n",
      "6022    Western Sub-Saharan Africa  NaN\n",
      "\n",
      "Entity with missing code for malaria_inc_df\n",
      "                                                entity code\n",
      "112                         Early-demographic dividend  NaN\n",
      "116                                East Asia & Pacific  NaN\n",
      "120                   East Asia & Pacific (IDA & IBRD)  NaN\n",
      "124        East Asia & Pacific (excluding high income)  NaN\n",
      "148           Fragile and conflict affected situations  NaN\n",
      "188             Heavily indebted poor countries (HIPC)  NaN\n",
      "196                                          IBRD only  NaN\n",
      "200                                   IDA & IBRD total  NaN\n",
      "204                                          IDA blend  NaN\n",
      "208                                           IDA only  NaN\n",
      "212                                          IDA total  NaN\n",
      "244                          Late-demographic dividend  NaN\n",
      "248                          Latin America & Caribbean  NaN\n",
      "252             Latin America & Caribbean (IDA & IBRD)  NaN\n",
      "256  Latin America & Caribbean (excluding high income)  NaN\n",
      "260       Least developed countries: UN classification  NaN\n",
      "268                                Low & middle income  NaN\n",
      "272                                         Low income  NaN\n",
      "276                                Lower middle income  NaN\n",
      "304                                      Middle income  NaN\n",
      "364                           Pre-demographic dividend  NaN\n",
      "400                                         South Asia  NaN\n",
      "404                            South Asia (IDA & IBRD)  NaN\n",
      "420                                 Sub-Saharan Africa  NaN\n",
      "424                    Sub-Saharan Africa (IDA & IBRD)  NaN\n",
      "428         Sub-Saharan Africa (excluding high income)  NaN\n",
      "472                                Upper middle income  NaN\n"
     ]
    }
   ],
   "source": [
    "print('Entity with missing code for malaria_deaths_df')\n",
    "print_entity_with_missing_code(malaria_deaths_df)\n",
    "\n",
    "print('\\nEntity with missing code for malaria_deaths_age_df')\n",
    "print_entity_with_missing_code(malaria_deaths_age_df)\n",
    "\n",
    "print('\\nEntity with missing code for malaria_inc_df')\n",
    "print_entity_with_missing_code(malaria_inc_df)"
   ]
  },
  {
   "cell_type": "markdown",
   "metadata": {},
   "source": [
    "`code` are country code of the respective countries. Some entities exist without `code` becuase they are non-country entities, such as geographical regions, cities, economic status. These information might provide insights later during visualisation, thus they are being kept for now."
   ]
  },
  {
   "cell_type": "markdown",
   "metadata": {},
   "source": [
    "## Sanity checks on data"
   ]
  },
  {
   "cell_type": "code",
   "execution_count": 50,
   "metadata": {},
   "outputs": [
    {
     "data": {
      "text/html": [
       "<div>\n",
       "<style scoped>\n",
       "    .dataframe tbody tr th:only-of-type {\n",
       "        vertical-align: middle;\n",
       "    }\n",
       "\n",
       "    .dataframe tbody tr th {\n",
       "        vertical-align: top;\n",
       "    }\n",
       "\n",
       "    .dataframe thead th {\n",
       "        text-align: right;\n",
       "    }\n",
       "</style>\n",
       "<table border=\"1\" class=\"dataframe\">\n",
       "  <thead>\n",
       "    <tr style=\"text-align: right;\">\n",
       "      <th></th>\n",
       "      <th>year</th>\n",
       "      <th>deaths</th>\n",
       "    </tr>\n",
       "  </thead>\n",
       "  <tbody>\n",
       "    <tr>\n",
       "      <th>count</th>\n",
       "      <td>6156.000000</td>\n",
       "      <td>6156.000000</td>\n",
       "    </tr>\n",
       "    <tr>\n",
       "      <th>mean</th>\n",
       "      <td>2003.000000</td>\n",
       "      <td>16.375074</td>\n",
       "    </tr>\n",
       "    <tr>\n",
       "      <th>std</th>\n",
       "      <td>7.789514</td>\n",
       "      <td>38.606219</td>\n",
       "    </tr>\n",
       "    <tr>\n",
       "      <th>min</th>\n",
       "      <td>1990.000000</td>\n",
       "      <td>0.000000</td>\n",
       "    </tr>\n",
       "    <tr>\n",
       "      <th>25%</th>\n",
       "      <td>1996.000000</td>\n",
       "      <td>0.000000</td>\n",
       "    </tr>\n",
       "    <tr>\n",
       "      <th>50%</th>\n",
       "      <td>2003.000000</td>\n",
       "      <td>0.020219</td>\n",
       "    </tr>\n",
       "    <tr>\n",
       "      <th>75%</th>\n",
       "      <td>2010.000000</td>\n",
       "      <td>3.891035</td>\n",
       "    </tr>\n",
       "    <tr>\n",
       "      <th>max</th>\n",
       "      <td>2016.000000</td>\n",
       "      <td>229.228881</td>\n",
       "    </tr>\n",
       "  </tbody>\n",
       "</table>\n",
       "</div>"
      ],
      "text/plain": [
       "              year       deaths\n",
       "count  6156.000000  6156.000000\n",
       "mean   2003.000000    16.375074\n",
       "std       7.789514    38.606219\n",
       "min    1990.000000     0.000000\n",
       "25%    1996.000000     0.000000\n",
       "50%    2003.000000     0.020219\n",
       "75%    2010.000000     3.891035\n",
       "max    2016.000000   229.228881"
      ]
     },
     "execution_count": 50,
     "metadata": {},
     "output_type": "execute_result"
    }
   ],
   "source": [
    "malaria_deaths_df.describe()"
   ]
  },
  {
   "cell_type": "code",
   "execution_count": 51,
   "metadata": {},
   "outputs": [
    {
     "data": {
      "text/html": [
       "<div>\n",
       "<style scoped>\n",
       "    .dataframe tbody tr th:only-of-type {\n",
       "        vertical-align: middle;\n",
       "    }\n",
       "\n",
       "    .dataframe tbody tr th {\n",
       "        vertical-align: top;\n",
       "    }\n",
       "\n",
       "    .dataframe thead th {\n",
       "        text-align: right;\n",
       "    }\n",
       "</style>\n",
       "<table border=\"1\" class=\"dataframe\">\n",
       "  <thead>\n",
       "    <tr style=\"text-align: right;\">\n",
       "      <th></th>\n",
       "      <th>year</th>\n",
       "      <th>deaths</th>\n",
       "    </tr>\n",
       "  </thead>\n",
       "  <tbody>\n",
       "    <tr>\n",
       "      <th>count</th>\n",
       "      <td>30780.000000</td>\n",
       "      <td>30780.000000</td>\n",
       "    </tr>\n",
       "    <tr>\n",
       "      <th>mean</th>\n",
       "      <td>2003.000000</td>\n",
       "      <td>3698.550438</td>\n",
       "    </tr>\n",
       "    <tr>\n",
       "      <th>std</th>\n",
       "      <td>7.789007</td>\n",
       "      <td>33539.059413</td>\n",
       "    </tr>\n",
       "    <tr>\n",
       "      <th>min</th>\n",
       "      <td>1990.000000</td>\n",
       "      <td>0.000000</td>\n",
       "    </tr>\n",
       "    <tr>\n",
       "      <th>25%</th>\n",
       "      <td>1996.000000</td>\n",
       "      <td>0.000000</td>\n",
       "    </tr>\n",
       "    <tr>\n",
       "      <th>50%</th>\n",
       "      <td>2003.000000</td>\n",
       "      <td>0.123451</td>\n",
       "    </tr>\n",
       "    <tr>\n",
       "      <th>75%</th>\n",
       "      <td>2010.000000</td>\n",
       "      <td>80.505605</td>\n",
       "    </tr>\n",
       "    <tr>\n",
       "      <th>max</th>\n",
       "      <td>2016.000000</td>\n",
       "      <td>752025.548675</td>\n",
       "    </tr>\n",
       "  </tbody>\n",
       "</table>\n",
       "</div>"
      ],
      "text/plain": [
       "               year         deaths\n",
       "count  30780.000000   30780.000000\n",
       "mean    2003.000000    3698.550438\n",
       "std        7.789007   33539.059413\n",
       "min     1990.000000       0.000000\n",
       "25%     1996.000000       0.000000\n",
       "50%     2003.000000       0.123451\n",
       "75%     2010.000000      80.505605\n",
       "max     2016.000000  752025.548675"
      ]
     },
     "execution_count": 51,
     "metadata": {},
     "output_type": "execute_result"
    }
   ],
   "source": [
    "malaria_deaths_age_df.describe()"
   ]
  },
  {
   "cell_type": "markdown",
   "metadata": {},
   "source": [
    "For `malaria_deaths_df`, `deaths` is the death rate per 100,000 people. In the original dataset, there were not elaborate description about `deaths` for `malaria_deaths_age_df`. The values for `deaths` in `malaria_deaths_age_df` are generally higher than `malaria_deaths_df`. In addition, the maximum value of `deaths` for `malaria_deaths_age_df` is `752,025`. Hence, it is unlikely that `deaths` in `malaria_deaths_age_df` is also death rate per 100,000 people."
   ]
  },
  {
   "cell_type": "code",
   "execution_count": 14,
   "metadata": {},
   "outputs": [
    {
     "data": {
      "text/html": [
       "<div>\n",
       "<style scoped>\n",
       "    .dataframe tbody tr th:only-of-type {\n",
       "        vertical-align: middle;\n",
       "    }\n",
       "\n",
       "    .dataframe tbody tr th {\n",
       "        vertical-align: top;\n",
       "    }\n",
       "\n",
       "    .dataframe thead th {\n",
       "        text-align: right;\n",
       "    }\n",
       "</style>\n",
       "<table border=\"1\" class=\"dataframe\">\n",
       "  <thead>\n",
       "    <tr style=\"text-align: right;\">\n",
       "      <th></th>\n",
       "      <th>year</th>\n",
       "      <th>incidence</th>\n",
       "    </tr>\n",
       "  </thead>\n",
       "  <tbody>\n",
       "    <tr>\n",
       "      <th>count</th>\n",
       "      <td>508.00000</td>\n",
       "      <td>508.000000</td>\n",
       "    </tr>\n",
       "    <tr>\n",
       "      <th>mean</th>\n",
       "      <td>2007.50000</td>\n",
       "      <td>141.714565</td>\n",
       "    </tr>\n",
       "    <tr>\n",
       "      <th>std</th>\n",
       "      <td>5.59568</td>\n",
       "      <td>176.637900</td>\n",
       "    </tr>\n",
       "    <tr>\n",
       "      <th>min</th>\n",
       "      <td>2000.00000</td>\n",
       "      <td>0.000000</td>\n",
       "    </tr>\n",
       "    <tr>\n",
       "      <th>25%</th>\n",
       "      <td>2003.75000</td>\n",
       "      <td>6.986310</td>\n",
       "    </tr>\n",
       "    <tr>\n",
       "      <th>50%</th>\n",
       "      <td>2007.50000</td>\n",
       "      <td>57.050000</td>\n",
       "    </tr>\n",
       "    <tr>\n",
       "      <th>75%</th>\n",
       "      <td>2011.25000</td>\n",
       "      <td>246.050000</td>\n",
       "    </tr>\n",
       "    <tr>\n",
       "      <th>max</th>\n",
       "      <td>2015.00000</td>\n",
       "      <td>1741.000000</td>\n",
       "    </tr>\n",
       "  </tbody>\n",
       "</table>\n",
       "</div>"
      ],
      "text/plain": [
       "             year    incidence\n",
       "count   508.00000   508.000000\n",
       "mean   2007.50000   141.714565\n",
       "std       5.59568   176.637900\n",
       "min    2000.00000     0.000000\n",
       "25%    2003.75000     6.986310\n",
       "50%    2007.50000    57.050000\n",
       "75%    2011.25000   246.050000\n",
       "max    2015.00000  1741.000000"
      ]
     },
     "execution_count": 14,
     "metadata": {},
     "output_type": "execute_result"
    }
   ],
   "source": [
    "malaria_inc_df.describe()"
   ]
  },
  {
   "cell_type": "markdown",
   "metadata": {},
   "source": [
    "`incidence` for `malaria_inc_df` suppose to refer to the rate of incidence per 1000 population. Hence, it is not logical for the maximum value for `incidence` to be 1741 (larger than 1000).\n",
    "\n",
    "**Note:** The time period for `malaria_deaths_df` and `malaria_deaths_age_df` are from 1990 to 2016. However, the time period for `malaria_inc_df` is only from 2000 to 2015. So it will be impossible to do correlation between death and incidence of malaria outside the period 2000 to 2015."
   ]
  },
  {
   "cell_type": "code",
   "execution_count": 15,
   "metadata": {},
   "outputs": [
    {
     "data": {
      "text/html": [
       "<div>\n",
       "<style scoped>\n",
       "    .dataframe tbody tr th:only-of-type {\n",
       "        vertical-align: middle;\n",
       "    }\n",
       "\n",
       "    .dataframe tbody tr th {\n",
       "        vertical-align: top;\n",
       "    }\n",
       "\n",
       "    .dataframe thead th {\n",
       "        text-align: right;\n",
       "    }\n",
       "</style>\n",
       "<table border=\"1\" class=\"dataframe\">\n",
       "  <thead>\n",
       "    <tr style=\"text-align: right;\">\n",
       "      <th></th>\n",
       "      <th>entity</th>\n",
       "      <th>code</th>\n",
       "      <th>year</th>\n",
       "      <th>incidence</th>\n",
       "    </tr>\n",
       "  </thead>\n",
       "  <tbody>\n",
       "    <tr>\n",
       "      <th>464</th>\n",
       "      <td>Turkey</td>\n",
       "      <td>TUR</td>\n",
       "      <td>2000</td>\n",
       "      <td>1741.0</td>\n",
       "    </tr>\n",
       "  </tbody>\n",
       "</table>\n",
       "</div>"
      ],
      "text/plain": [
       "     entity code  year  incidence\n",
       "464  Turkey  TUR  2000     1741.0"
      ]
     },
     "execution_count": 15,
     "metadata": {},
     "output_type": "execute_result"
    }
   ],
   "source": [
    "malaria_inc_df[malaria_inc_df['incidence'] > 1000]"
   ]
  },
  {
   "cell_type": "markdown",
   "metadata": {},
   "source": [
    "There is only 1 instance of `incidence` (rate of incidence per 1000 population) above 1000, thus it is likely that this is due to an error in the data. This error was made for the `Turkey`."
   ]
  },
  {
   "cell_type": "code",
   "execution_count": 16,
   "metadata": {},
   "outputs": [
    {
     "data": {
      "text/html": [
       "<div>\n",
       "<style scoped>\n",
       "    .dataframe tbody tr th:only-of-type {\n",
       "        vertical-align: middle;\n",
       "    }\n",
       "\n",
       "    .dataframe tbody tr th {\n",
       "        vertical-align: top;\n",
       "    }\n",
       "\n",
       "    .dataframe thead th {\n",
       "        text-align: right;\n",
       "    }\n",
       "</style>\n",
       "<table border=\"1\" class=\"dataframe\">\n",
       "  <thead>\n",
       "    <tr style=\"text-align: right;\">\n",
       "      <th></th>\n",
       "      <th>entity</th>\n",
       "      <th>code</th>\n",
       "      <th>year</th>\n",
       "      <th>incidence</th>\n",
       "    </tr>\n",
       "  </thead>\n",
       "  <tbody>\n",
       "    <tr>\n",
       "      <th>464</th>\n",
       "      <td>Turkey</td>\n",
       "      <td>TUR</td>\n",
       "      <td>2000</td>\n",
       "      <td>1741.0</td>\n",
       "    </tr>\n",
       "    <tr>\n",
       "      <th>465</th>\n",
       "      <td>Turkey</td>\n",
       "      <td>TUR</td>\n",
       "      <td>2005</td>\n",
       "      <td>295.8</td>\n",
       "    </tr>\n",
       "    <tr>\n",
       "      <th>466</th>\n",
       "      <td>Turkey</td>\n",
       "      <td>TUR</td>\n",
       "      <td>2010</td>\n",
       "      <td>0.0</td>\n",
       "    </tr>\n",
       "    <tr>\n",
       "      <th>467</th>\n",
       "      <td>Turkey</td>\n",
       "      <td>TUR</td>\n",
       "      <td>2015</td>\n",
       "      <td>0.0</td>\n",
       "    </tr>\n",
       "  </tbody>\n",
       "</table>\n",
       "</div>"
      ],
      "text/plain": [
       "     entity code  year  incidence\n",
       "464  Turkey  TUR  2000     1741.0\n",
       "465  Turkey  TUR  2005      295.8\n",
       "466  Turkey  TUR  2010        0.0\n",
       "467  Turkey  TUR  2015        0.0"
      ]
     },
     "execution_count": 16,
     "metadata": {},
     "output_type": "execute_result"
    }
   ],
   "source": [
    "malaria_inc_df[malaria_inc_df['entity'] == 'Turkey']"
   ]
  },
  {
   "cell_type": "markdown",
   "metadata": {},
   "source": [
    "Online articles reported that the number of malaria case in Turkey drop significantly during the period of 2000 to 2015, which was also reflected in the data. "
   ]
  },
  {
   "cell_type": "code",
   "execution_count": 17,
   "metadata": {},
   "outputs": [
    {
     "data": {
      "text/html": [
       "<div>\n",
       "<style scoped>\n",
       "    .dataframe tbody tr th:only-of-type {\n",
       "        vertical-align: middle;\n",
       "    }\n",
       "\n",
       "    .dataframe tbody tr th {\n",
       "        vertical-align: top;\n",
       "    }\n",
       "\n",
       "    .dataframe thead th {\n",
       "        text-align: right;\n",
       "    }\n",
       "</style>\n",
       "<table border=\"1\" class=\"dataframe\">\n",
       "  <thead>\n",
       "    <tr style=\"text-align: right;\">\n",
       "      <th></th>\n",
       "      <th>entity</th>\n",
       "      <th>code</th>\n",
       "      <th>year</th>\n",
       "      <th>incidence</th>\n",
       "    </tr>\n",
       "  </thead>\n",
       "  <tbody>\n",
       "    <tr>\n",
       "      <th>464</th>\n",
       "      <td>Turkey</td>\n",
       "      <td>TUR</td>\n",
       "      <td>2000</td>\n",
       "      <td>1000.0</td>\n",
       "    </tr>\n",
       "    <tr>\n",
       "      <th>465</th>\n",
       "      <td>Turkey</td>\n",
       "      <td>TUR</td>\n",
       "      <td>2005</td>\n",
       "      <td>295.8</td>\n",
       "    </tr>\n",
       "    <tr>\n",
       "      <th>466</th>\n",
       "      <td>Turkey</td>\n",
       "      <td>TUR</td>\n",
       "      <td>2010</td>\n",
       "      <td>0.0</td>\n",
       "    </tr>\n",
       "    <tr>\n",
       "      <th>467</th>\n",
       "      <td>Turkey</td>\n",
       "      <td>TUR</td>\n",
       "      <td>2015</td>\n",
       "      <td>0.0</td>\n",
       "    </tr>\n",
       "  </tbody>\n",
       "</table>\n",
       "</div>"
      ],
      "text/plain": [
       "     entity code  year  incidence\n",
       "464  Turkey  TUR  2000     1000.0\n",
       "465  Turkey  TUR  2005      295.8\n",
       "466  Turkey  TUR  2010        0.0\n",
       "467  Turkey  TUR  2015        0.0"
      ]
     },
     "execution_count": 17,
     "metadata": {},
     "output_type": "execute_result"
    }
   ],
   "source": [
    "# Incidence of malaria in turkey in 2000 was corrected to 1000 (the maximum logical value for `incidence`)\n",
    "malaria_inc_df.iloc[464,3] = 1000\n",
    "malaria_inc_df[malaria_inc_df['entity'] == 'Turkey']"
   ]
  },
  {
   "cell_type": "code",
   "execution_count": 18,
   "metadata": {},
   "outputs": [],
   "source": [
    "# Updating columns title for malaria_deaths_df from `deaths` to `deaths_rate_per_100k`. \n",
    "# This is to provide better clarity, and avoid confusion with `deaths` in malaria_deaths_age_df\n",
    "malaria_deaths_df.columns = ['entity', 'code', 'year', 'deaths_rate_per_100k']"
   ]
  },
  {
   "cell_type": "markdown",
   "metadata": {},
   "source": [
    "# Export data to SQL database"
   ]
  },
  {
   "cell_type": "code",
   "execution_count": 19,
   "metadata": {},
   "outputs": [],
   "source": [
    "db_path = 'malaria.db'\n",
    "\n",
    "sqlite3_con = sqlite3.connect(db_path)\n",
    "malaria_deaths_df.to_sql('malaria_deaths', con=sqlite3_con, index=False, if_exists=\"replace\")\n",
    "malaria_deaths_age_df.to_sql('malaria_deaths_age', con=sqlite3_con, index=False, if_exists=\"replace\")\n",
    "malaria_inc_df.to_sql('malaria_inc', con=sqlite3_con, index=False, if_exists=\"replace\")\n",
    "sqlite3_con.commit()\n",
    "sqlite3_con.close()"
   ]
  },
  {
   "cell_type": "markdown",
   "metadata": {},
   "source": [
    "# Retrieve data from SQL database"
   ]
  },
  {
   "cell_type": "code",
   "execution_count": 2,
   "metadata": {},
   "outputs": [],
   "source": [
    "def check_sql(sql):\n",
    "    if not isinstance(sql, str):\n",
    "        raise TypeError(f'SQL query need to be in str, but {type(sql)} was provided')\n",
    "    \n",
    "    sql = sql.lower()\n",
    "    if 'select' not in sql:\n",
    "        raise ValueError('SQL query must at least contain \"SELECT\"')\n",
    "    \n",
    "    if 'from' not in sql:\n",
    "        raise ValueError('SQL query must at least contain \"FROM\"')\n",
    "\n",
    "\n",
    "def sql_to_pandas(sql, db_path='malaria.db', sort_order=['year', 'code', 'entity']):\n",
    "    check_sql(sql)\n",
    "    \n",
    "    sqlite3_con = sqlite3.connect(db_path)\n",
    "    \n",
    "    result_df = pd.read_sql(sql, con=sqlite3_con)\n",
    "    \n",
    "    sqlite3_con.close()\n",
    "    \n",
    "    for col in sort_order:\n",
    "        if col not in result_df.columns:\n",
    "            sort_order.remove(col)\n",
    "            \n",
    "    result_df.sort_values(by=sort_order, inplace=True)\n",
    "    \n",
    "    return result_df"
   ]
  },
  {
   "cell_type": "code",
   "execution_count": 3,
   "metadata": {},
   "outputs": [
    {
     "data": {
      "text/html": [
       "<div>\n",
       "<style scoped>\n",
       "    .dataframe tbody tr th:only-of-type {\n",
       "        vertical-align: middle;\n",
       "    }\n",
       "\n",
       "    .dataframe tbody tr th {\n",
       "        vertical-align: top;\n",
       "    }\n",
       "\n",
       "    .dataframe thead th {\n",
       "        text-align: right;\n",
       "    }\n",
       "</style>\n",
       "<table border=\"1\" class=\"dataframe\">\n",
       "  <thead>\n",
       "    <tr style=\"text-align: right;\">\n",
       "      <th></th>\n",
       "      <th>entity</th>\n",
       "      <th>year</th>\n",
       "      <th>deaths_rate_per_100k</th>\n",
       "      <th>incidence</th>\n",
       "    </tr>\n",
       "  </thead>\n",
       "  <tbody>\n",
       "    <tr>\n",
       "      <th>0</th>\n",
       "      <td>Afghanistan</td>\n",
       "      <td>2000</td>\n",
       "      <td>7.939949</td>\n",
       "      <td>107.100000</td>\n",
       "    </tr>\n",
       "    <tr>\n",
       "      <th>4</th>\n",
       "      <td>Algeria</td>\n",
       "      <td>2000</td>\n",
       "      <td>0.026530</td>\n",
       "      <td>0.037746</td>\n",
       "    </tr>\n",
       "    <tr>\n",
       "      <th>8</th>\n",
       "      <td>Angola</td>\n",
       "      <td>2000</td>\n",
       "      <td>32.045192</td>\n",
       "      <td>315.600000</td>\n",
       "    </tr>\n",
       "    <tr>\n",
       "      <th>12</th>\n",
       "      <td>Argentina</td>\n",
       "      <td>2000</td>\n",
       "      <td>0.016102</td>\n",
       "      <td>2.500000</td>\n",
       "    </tr>\n",
       "    <tr>\n",
       "      <th>16</th>\n",
       "      <td>Azerbaijan</td>\n",
       "      <td>2000</td>\n",
       "      <td>0.023048</td>\n",
       "      <td>17.900000</td>\n",
       "    </tr>\n",
       "    <tr>\n",
       "      <th>...</th>\n",
       "      <td>...</td>\n",
       "      <td>...</td>\n",
       "      <td>...</td>\n",
       "      <td>...</td>\n",
       "    </tr>\n",
       "    <tr>\n",
       "      <th>379</th>\n",
       "      <td>Venezuela</td>\n",
       "      <td>2015</td>\n",
       "      <td>0.066374</td>\n",
       "      <td>68.400000</td>\n",
       "    </tr>\n",
       "    <tr>\n",
       "      <th>383</th>\n",
       "      <td>Vietnam</td>\n",
       "      <td>2015</td>\n",
       "      <td>1.248534</td>\n",
       "      <td>0.300000</td>\n",
       "    </tr>\n",
       "    <tr>\n",
       "      <th>387</th>\n",
       "      <td>Yemen</td>\n",
       "      <td>2015</td>\n",
       "      <td>0.033254</td>\n",
       "      <td>22.200000</td>\n",
       "    </tr>\n",
       "    <tr>\n",
       "      <th>391</th>\n",
       "      <td>Zambia</td>\n",
       "      <td>2015</td>\n",
       "      <td>30.273699</td>\n",
       "      <td>173.700000</td>\n",
       "    </tr>\n",
       "    <tr>\n",
       "      <th>395</th>\n",
       "      <td>Zimbabwe</td>\n",
       "      <td>2015</td>\n",
       "      <td>9.440046</td>\n",
       "      <td>114.200000</td>\n",
       "    </tr>\n",
       "  </tbody>\n",
       "</table>\n",
       "<p>396 rows × 4 columns</p>\n",
       "</div>"
      ],
      "text/plain": [
       "          entity  year  deaths_rate_per_100k   incidence\n",
       "0    Afghanistan  2000              7.939949  107.100000\n",
       "4        Algeria  2000              0.026530    0.037746\n",
       "8         Angola  2000             32.045192  315.600000\n",
       "12     Argentina  2000              0.016102    2.500000\n",
       "16    Azerbaijan  2000              0.023048   17.900000\n",
       "..           ...   ...                   ...         ...\n",
       "379    Venezuela  2015              0.066374   68.400000\n",
       "383      Vietnam  2015              1.248534    0.300000\n",
       "387        Yemen  2015              0.033254   22.200000\n",
       "391       Zambia  2015             30.273699  173.700000\n",
       "395     Zimbabwe  2015              9.440046  114.200000\n",
       "\n",
       "[396 rows x 4 columns]"
      ]
     },
     "execution_count": 3,
     "metadata": {},
     "output_type": "execute_result"
    }
   ],
   "source": [
    "result_df_1 = sql_to_pandas('SELECT malaria_deaths.entity, malaria_deaths.year, malaria_deaths.deaths_rate_per_100k, malaria_inc.incidence \\\n",
    "                           FROM malaria_deaths \\\n",
    "                           INNER JOIN malaria_inc \\\n",
    "                           ON malaria_deaths.entity = malaria_inc.entity \\\n",
    "                           AND malaria_deaths.year = malaria_inc.year \\\n",
    "                           WHERE \\\n",
    "                           malaria_deaths.code IS NOT NULL \\\n",
    "                           AND malaria_deaths.entity!=\"World\"')\n",
    "result_df_1"
   ]
  },
  {
   "cell_type": "code",
   "execution_count": 4,
   "metadata": {
    "scrolled": false
   },
   "outputs": [
    {
     "data": {
      "image/png": "[encoded data removed]",
      "text/plain": [
       "<Figure size 720x864 with 3 Axes>"
      ]
     },
     "metadata": {
      "needs_background": "light"
     },
     "output_type": "display_data"
    }
   ],
   "source": [
    "max_deaths_rate = result_df_1.deaths_rate_per_100k.max()\n",
    "min_deaths_rate = result_df_1.deaths_rate_per_100k.min()\n",
    "max_incidence = result_df_1.incidence.max()\n",
    "min_incidence = result_df_1.incidence.min()\n",
    "\n",
    "list_unique_year = result_df_1.year.unique()\n",
    "num_unique_year = len(list_unique_year)\n",
    "\n",
    "list_unique_entity = result_df_1.entity.unique()\n",
    "\n",
    "plt.figure(figsize=(10, num_unique_year * 3))\n",
    "\n",
    "for i, curr_year in enumerate(list_unique_year):\n",
    "    if i == 0:\n",
    "        continue\n",
    "        \n",
    "    prev_year = list_unique_year[i - 1]\n",
    "    \n",
    "    curr_year_df = result_df_1[result_df_1.year==curr_year]\n",
    "    prev_year_df = result_df_1[result_df_1.year==prev_year]\n",
    "    \n",
    "    plt.subplot(num_unique_year - 1, 1, i)\n",
    "    \n",
    "    plt.scatter(prev_year_df.deaths_rate_per_100k, prev_year_df.incidence, c='blue', alpha=0.1, label=prev_year)\n",
    "    plt.scatter(curr_year_df.deaths_rate_per_100k, curr_year_df.incidence, c='blue', label=curr_year)\n",
    "    \n",
    "    for unique_entity in list_unique_entity:\n",
    "        x = [prev_year_df[prev_year_df.entity==unique_entity].deaths_rate_per_100k, \n",
    "             curr_year_df[curr_year_df.entity==unique_entity].deaths_rate_per_100k]\n",
    "        y = [prev_year_df[prev_year_df.entity==unique_entity].incidence, \n",
    "             curr_year_df[curr_year_df.entity==unique_entity].incidence]\n",
    "        plt.plot(x, y, c='k', alpha=0.1)\n",
    "    \n",
    "    plt.ylim((min_incidence, max_incidence))\n",
    "    plt.xlim((min_deaths_rate, max_deaths_rate))\n",
    "    plt.title(f'{prev_year} to {curr_year}')\n",
    "    plt.ylabel('Incidence rate of malaria\\n(per 1,000 population at risk)')\n",
    "    plt.xlabel('Death rate of malaria\\n(per 100,000 population)')\n",
    "    plt.legend()\n",
    "    \n",
    "plt.tight_layout()\n",
    "plt.show()"
   ]
  },
  {
   "cell_type": "code",
   "execution_count": 104,
   "metadata": {},
   "outputs": [
    {
     "data": {
      "text/html": [
       "<div>\n",
       "<style scoped>\n",
       "    .dataframe tbody tr th:only-of-type {\n",
       "        vertical-align: middle;\n",
       "    }\n",
       "\n",
       "    .dataframe tbody tr th {\n",
       "        vertical-align: top;\n",
       "    }\n",
       "\n",
       "    .dataframe thead th {\n",
       "        text-align: right;\n",
       "    }\n",
       "</style>\n",
       "<table border=\"1\" class=\"dataframe\">\n",
       "  <thead>\n",
       "    <tr style=\"text-align: right;\">\n",
       "      <th></th>\n",
       "      <th>entity</th>\n",
       "      <th>age_group</th>\n",
       "      <th>deaths</th>\n",
       "    </tr>\n",
       "  </thead>\n",
       "  <tbody>\n",
       "    <tr>\n",
       "      <th>0</th>\n",
       "      <td>Afghanistan</td>\n",
       "      <td>15-49</td>\n",
       "      <td>414.709676</td>\n",
       "    </tr>\n",
       "    <tr>\n",
       "      <th>99</th>\n",
       "      <td>Afghanistan</td>\n",
       "      <td>70 or older</td>\n",
       "      <td>28.813163</td>\n",
       "    </tr>\n",
       "    <tr>\n",
       "      <th>98</th>\n",
       "      <td>Afghanistan</td>\n",
       "      <td>70 or older</td>\n",
       "      <td>28.113027</td>\n",
       "    </tr>\n",
       "    <tr>\n",
       "      <th>97</th>\n",
       "      <td>Afghanistan</td>\n",
       "      <td>70 or older</td>\n",
       "      <td>27.577411</td>\n",
       "    </tr>\n",
       "    <tr>\n",
       "      <th>96</th>\n",
       "      <td>Afghanistan</td>\n",
       "      <td>70 or older</td>\n",
       "      <td>26.591458</td>\n",
       "    </tr>\n",
       "    <tr>\n",
       "      <th>...</th>\n",
       "      <td>...</td>\n",
       "      <td>...</td>\n",
       "      <td>...</td>\n",
       "    </tr>\n",
       "    <tr>\n",
       "      <th>26235</th>\n",
       "      <td>Zimbabwe</td>\n",
       "      <td>5-14</td>\n",
       "      <td>175.538712</td>\n",
       "    </tr>\n",
       "    <tr>\n",
       "      <th>26236</th>\n",
       "      <td>Zimbabwe</td>\n",
       "      <td>5-14</td>\n",
       "      <td>164.696902</td>\n",
       "    </tr>\n",
       "    <tr>\n",
       "      <th>26237</th>\n",
       "      <td>Zimbabwe</td>\n",
       "      <td>5-14</td>\n",
       "      <td>178.395960</td>\n",
       "    </tr>\n",
       "    <tr>\n",
       "      <th>26231</th>\n",
       "      <td>Zimbabwe</td>\n",
       "      <td>5-14</td>\n",
       "      <td>170.271441</td>\n",
       "    </tr>\n",
       "    <tr>\n",
       "      <th>26324</th>\n",
       "      <td>Zimbabwe</td>\n",
       "      <td>Under 5</td>\n",
       "      <td>745.340029</td>\n",
       "    </tr>\n",
       "  </tbody>\n",
       "</table>\n",
       "<p>26325 rows × 3 columns</p>\n",
       "</div>"
      ],
      "text/plain": [
       "            entity    age_group      deaths\n",
       "0      Afghanistan        15-49  414.709676\n",
       "99     Afghanistan  70 or older   28.813163\n",
       "98     Afghanistan  70 or older   28.113027\n",
       "97     Afghanistan  70 or older   27.577411\n",
       "96     Afghanistan  70 or older   26.591458\n",
       "...            ...          ...         ...\n",
       "26235     Zimbabwe         5-14  175.538712\n",
       "26236     Zimbabwe         5-14  164.696902\n",
       "26237     Zimbabwe         5-14  178.395960\n",
       "26231     Zimbabwe         5-14  170.271441\n",
       "26324     Zimbabwe      Under 5  745.340029\n",
       "\n",
       "[26325 rows x 3 columns]"
      ]
     },
     "execution_count": 104,
     "metadata": {},
     "output_type": "execute_result"
    }
   ],
   "source": [
    "result_df_2 = sql_to_pandas('SELECT entity, age_group, AVG(deaths) AS deaths \\\n",
    "                           FROM malaria_deaths_age \\\n",
    "                           WHERE \\\n",
    "                           code IS NOT NULL \\\n",
    "                           AND entity!=\"World\" \\\n",
    "                           GROUP BY entity, age_group, year')\n",
    "result_df_2"
   ]
  },
  {
   "cell_type": "code",
   "execution_count": 107,
   "metadata": {},
   "outputs": [],
   "source": [
    "age_grp_order =['Under 5', '5-14', '15-49', '50-69', '70 or older']"
   ]
  },
  {
   "cell_type": "code",
   "execution_count": 114,
   "metadata": {},
   "outputs": [],
   "source": [
    "result_df_2['highlight_entity'] = result_df_2['entity'].apply(lambda x: x if (x=='Nigeria') or (x=='Democratic Republic of Congo') else 'Others')"
   ]
  },
  {
   "cell_type": "code",
   "execution_count": 128,
   "metadata": {},
   "outputs": [
    {
     "data": {
      "image/png": "[encoded data removed]",
      "text/plain": [
       "<Figure size 720x720 with 1 Axes>"
      ]
     },
     "metadata": {
      "needs_background": "light"
     },
     "output_type": "display_data"
    }
   ],
   "source": [
    "plt.figure(figsize=(10, 10))\n",
    "sns.stripplot(x='age_group', y='deaths', hue='highlight_entity', data=result_df_2, order=age_grp_order, alpha=0.5)\n",
    "plt.tight_layout()\n",
    "plt.show()"
   ]
  },
  {
   "cell_type": "code",
   "execution_count": 130,
   "metadata": {},
   "outputs": [
    {
     "data": {
      "text/plain": [
       "array(['Afghanistan', 'Albania', 'Algeria', 'American Samoa', 'Andorra',\n",
       "       'Angola', 'Antigua and Barbuda', 'Argentina', 'Armenia',\n",
       "       'Australia', 'Austria', 'Azerbaijan', 'Bahamas', 'Bahrain',\n",
       "       'Bangladesh', 'Barbados', 'Belarus', 'Belgium', 'Belize', 'Benin',\n",
       "       'Bermuda', 'Bhutan', 'Bolivia', 'Bosnia and Herzegovina',\n",
       "       'Botswana', 'Brazil', 'Brunei', 'Bulgaria', 'Burkina Faso',\n",
       "       'Burundi', 'Cambodia', 'Cameroon', 'Canada', 'Cape Verde',\n",
       "       'Central African Republic', 'Chad', 'Chile', 'China', 'Colombia',\n",
       "       'Comoros', 'Congo', 'Costa Rica', \"Cote d'Ivoire\", 'Croatia',\n",
       "       'Cuba', 'Cyprus', 'Czech Republic', 'Democratic Republic of Congo',\n",
       "       'Denmark', 'Djibouti', 'Dominica', 'Dominican Republic', 'Ecuador',\n",
       "       'Egypt', 'El Salvador', 'Equatorial Guinea', 'Eritrea', 'Estonia',\n",
       "       'Ethiopia', 'Fiji', 'Finland', 'France', 'Gabon', 'Gambia',\n",
       "       'Georgia', 'Germany', 'Ghana', 'Greece', 'Greenland', 'Grenada',\n",
       "       'Guam', 'Guatemala', 'Guinea', 'Guinea-Bissau', 'Guyana', 'Haiti',\n",
       "       'Honduras', 'Hungary', 'Iceland', 'India', 'Indonesia', 'Iran',\n",
       "       'Iraq', 'Ireland', 'Israel', 'Italy', 'Jamaica', 'Japan', 'Jordan',\n",
       "       'Kazakhstan', 'Kenya', 'Kiribati', 'Kuwait', 'Kyrgyzstan', 'Laos',\n",
       "       'Latvia', 'Lebanon', 'Lesotho', 'Liberia', 'Libya', 'Lithuania',\n",
       "       'Luxembourg', 'Macedonia', 'Madagascar', 'Malawi', 'Malaysia',\n",
       "       'Maldives', 'Mali', 'Malta', 'Marshall Islands', 'Mauritania',\n",
       "       'Mauritius', 'Mexico', 'Micronesia (country)', 'Moldova',\n",
       "       'Mongolia', 'Montenegro', 'Morocco', 'Mozambique', 'Myanmar',\n",
       "       'Namibia', 'Nepal', 'Netherlands', 'New Zealand', 'Nicaragua',\n",
       "       'Niger', 'Nigeria', 'North Korea', 'Northern Mariana Islands',\n",
       "       'Norway', 'Oman', 'Pakistan', 'Palestine', 'Panama',\n",
       "       'Papua New Guinea', 'Paraguay', 'Peru', 'Philippines', 'Poland',\n",
       "       'Portugal', 'Puerto Rico', 'Qatar', 'Romania', 'Russia', 'Rwanda',\n",
       "       'Saint Lucia', 'Saint Vincent and the Grenadines', 'Samoa',\n",
       "       'Sao Tome and Principe', 'Saudi Arabia', 'Senegal', 'Serbia',\n",
       "       'Seychelles', 'Sierra Leone', 'Singapore', 'Slovakia', 'Slovenia',\n",
       "       'Solomon Islands', 'Somalia', 'South Africa', 'South Korea',\n",
       "       'South Sudan', 'Spain', 'Sri Lanka', 'Sudan', 'Suriname',\n",
       "       'Swaziland', 'Sweden', 'Switzerland', 'Syria', 'Taiwan',\n",
       "       'Tajikistan', 'Tanzania', 'Thailand', 'Timor', 'Togo', 'Tonga',\n",
       "       'Trinidad and Tobago', 'Tunisia', 'Turkey', 'Turkmenistan',\n",
       "       'Uganda', 'Ukraine', 'United Arab Emirates', 'United Kingdom',\n",
       "       'United States', 'United States Virgin Islands', 'Uruguay',\n",
       "       'Uzbekistan', 'Vanuatu', 'Venezuela', 'Vietnam', 'Yemen', 'Zambia',\n",
       "       'Zimbabwe'], dtype=object)"
      ]
     },
     "execution_count": 130,
     "metadata": {},
     "output_type": "execute_result"
    }
   ],
   "source": [
    "result_df_2.entity.unique()"
   ]
  },
  {
   "cell_type": "code",
   "execution_count": 142,
   "metadata": {},
   "outputs": [],
   "source": [
    "hdi = pd.read_csv('country_hdi.csv')\n",
    "hdi\n",
    "hdi_country = hdi.country.values.tolist()"
   ]
  },
  {
   "cell_type": "code",
   "execution_count": 143,
   "metadata": {
    "scrolled": true
   },
   "outputs": [
    {
     "name": "stdout",
     "output_type": "stream",
     "text": [
      "American Samoa\n",
      "Bermuda\n",
      "Greenland\n",
      "Guam\n",
      "North Korea\n",
      "Northern Mariana Islands\n",
      "Puerto Rico\n",
      "Somalia\n",
      "Swaziland\n",
      "Taiwan\n",
      "United States Virgin Islands\n"
     ]
    }
   ],
   "source": [
    "for country in result_df_2.entity.unique():\n",
    "    if country not in hdi_country:\n",
    "        print(country)"
   ]
  },
  {
   "cell_type": "code",
   "execution_count": null,
   "metadata": {},
   "outputs": [],
   "source": []
  }
 ],
 "metadata": {
  "kernelspec": {
   "display_name": "Python 3",
   "language": "python",
   "name": "python3"
  },
  "language_info": {
   "codemirror_mode": {
    "name": "ipython",
    "version": 3
   },
   "file_extension": ".py",
   "mimetype": "text/x-python",
   "name": "python",
   "nbconvert_exporter": "python",
   "pygments_lexer": "ipython3",
   "version": "3.7.9"
  }
 },
 "nbformat": 4,
 "nbformat_minor": 4
}
